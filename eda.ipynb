{
 "cells": [
  {
   "cell_type": "markdown",
   "metadata": {},
   "source": [
    "# markdown\n",
    "['DOB_partner_man',\n",
    "'DOB_partner_woman',\n",
    "'Date_of_marriage']\n"
   ]
  },
  {
   "cell_type": "code",
   "execution_count": 100,
   "metadata": {},
   "outputs": [
    {
     "name": "stdout",
     "output_type": "stream",
     "text": [
      "divorces_2000-2015_original.csv    en_col_desc.csv   Untitled.ipynb\r\n",
      "divorces_2000-2015_translated.csv  en_col_names.txt\r\n",
      "eda.ipynb                          \u001b[0m\u001b[01;34mtmp\u001b[0m/\r\n"
     ]
    }
   ],
   "source": [
    "ls"
   ]
  },
  {
   "cell_type": "markdown",
   "metadata": {},
   "source": [
    "Divorce_date,Type_of_divorce,Nationality_partner_man,DOB_partner_man,Place_of_birth_partner_man,Birth_municipality_of_partner_man,Birth_federal_partner_man,Birth_country_partner_man,Age_partner_man,Residence_municipality_partner_man,Residence_federal_partner_man,Residence_country_partner_man,Monthly_income_partner_man_peso,Occupation_partner_man,Place_of_residence_partner_man,Nationality_partner_woman,DOB_partner_woman,DOB_registration_date_partner_woman,Place_of_birth_partner_woman,Birth_municipality_of_partner_woman,Birth_federal_partner_woman,Birth_country_partner_woman,Age_partner_woman,Place_of_residence_partner_woman,Residence_municipality_partner_woman,Residence_federal_partner_woman,Residence_country_partner_woman,Occupation_partner_woman,Monthly_income_partner_woman_peso,Date_of_marriage,Marriage_certificate_place,Marriage_certificate_municipality,Marriage_certificate_federal,Level_of_education_partner_man,Employment_status_partner_man,Level_of_education_partner_woman,Employment_status_partner_woman,Marriage_duration,Marriage_duration_months,Num_Children,Custody"
   ]
  },
  {
   "cell_type": "code",
   "execution_count": 132,
   "metadata": {},
   "outputs": [],
   "source": [
    "import pandas as pd\n",
    "import numpy as np\n",
    "from datetime import datetime as dt\n",
    "from datetime import date as d\n",
    "from dateutil.relativedelta import relativedelta as rd\n",
    "import seaborn as sn\n",
    "import matplotlib.pyplot as plt"
   ]
  },
  {
   "cell_type": "code",
   "execution_count": 102,
   "metadata": {},
   "outputs": [
    {
     "name": "stdout",
     "output_type": "stream",
     "text": [
      "D 2021-07-13 <class 'datetime.date'>\n",
      "2021-07-13 00:00:00\n"
     ]
    }
   ],
   "source": [
    "D=d(2021,7,13)\n",
    "print('D',D,type(D))\n",
    "\n",
    "print(pd.to_datetime(D))"
   ]
  },
  {
   "cell_type": "markdown",
   "metadata": {},
   "source": [
    "# READ the data"
   ]
  },
  {
   "cell_type": "code",
   "execution_count": 103,
   "metadata": {},
   "outputs": [
    {
     "data": {
      "text/html": [
       "<div>\n",
       "<style scoped>\n",
       "    .dataframe tbody tr th:only-of-type {\n",
       "        vertical-align: middle;\n",
       "    }\n",
       "\n",
       "    .dataframe tbody tr th {\n",
       "        vertical-align: top;\n",
       "    }\n",
       "\n",
       "    .dataframe thead th {\n",
       "        text-align: right;\n",
       "    }\n",
       "</style>\n",
       "<table border=\"1\" class=\"dataframe\">\n",
       "  <thead>\n",
       "    <tr style=\"text-align: right;\">\n",
       "      <th></th>\n",
       "      <th>dod</th>\n",
       "      <th>man</th>\n",
       "      <th>wom</th>\n",
       "      <th>dom</th>\n",
       "    </tr>\n",
       "  </thead>\n",
       "  <tbody>\n",
       "    <tr>\n",
       "      <th>0</th>\n",
       "      <td>2006-09-06</td>\n",
       "      <td>1975-12-18</td>\n",
       "      <td>1983-08-01</td>\n",
       "      <td>2000-06-26</td>\n",
       "    </tr>\n",
       "    <tr>\n",
       "      <th>2</th>\n",
       "      <td>2005-01-02</td>\n",
       "      <td>2055-02-22</td>\n",
       "      <td>2047-03-21</td>\n",
       "      <td>1975-12-18</td>\n",
       "    </tr>\n",
       "    <tr>\n",
       "      <th>4</th>\n",
       "      <td>2006-01-02</td>\n",
       "      <td>1975-10-30</td>\n",
       "      <td>1978-10-13</td>\n",
       "      <td>1998-11-14</td>\n",
       "    </tr>\n",
       "  </tbody>\n",
       "</table>\n",
       "</div>"
      ],
      "text/plain": [
       "         dod        man        wom        dom\n",
       "0 2006-09-06 1975-12-18 1983-08-01 2000-06-26\n",
       "2 2005-01-02 2055-02-22 2047-03-21 1975-12-18\n",
       "4 2006-01-02 1975-10-30 1978-10-13 1998-11-14"
      ]
     },
     "execution_count": 103,
     "metadata": {},
     "output_type": "execute_result"
    }
   ],
   "source": [
    "# usecols with numbers and names re-names columns\n",
    "# parse_dates is list of col to make dates.\n",
    "df = pd.read_csv('divorces_2000-2015_translated.csv'\n",
    "                    ,header=0\n",
    "                    ,usecols=[0,3,16,29]\n",
    "                    ,names=['dod','man','wom','dom']\n",
    "                    ,parse_dates=[0,1,2,3]\n",
    "                 )\n",
    "# drop any rows with NaN\n",
    "df = df.dropna()\n",
    "df.head(3)\n",
    "# notice row 2 is wrong century"
   ]
  },
  {
   "cell_type": "code",
   "execution_count": 104,
   "metadata": {},
   "outputs": [
    {
     "data": {
      "text/html": [
       "<div>\n",
       "<style scoped>\n",
       "    .dataframe tbody tr th:only-of-type {\n",
       "        vertical-align: middle;\n",
       "    }\n",
       "\n",
       "    .dataframe tbody tr th {\n",
       "        vertical-align: top;\n",
       "    }\n",
       "\n",
       "    .dataframe thead th {\n",
       "        text-align: right;\n",
       "    }\n",
       "</style>\n",
       "<table border=\"1\" class=\"dataframe\">\n",
       "  <thead>\n",
       "    <tr style=\"text-align: right;\">\n",
       "      <th></th>\n",
       "      <th>dod</th>\n",
       "      <th>man</th>\n",
       "      <th>wom</th>\n",
       "      <th>dom</th>\n",
       "      <th>man_yr</th>\n",
       "      <th>man_mo</th>\n",
       "      <th>man_da</th>\n",
       "      <th>wom_yr</th>\n",
       "      <th>wom_mo</th>\n",
       "      <th>wom_da</th>\n",
       "      <th>mar_yr</th>\n",
       "      <th>mar_mo</th>\n",
       "      <th>mar_da</th>\n",
       "      <th>div_yr</th>\n",
       "      <th>div_mo</th>\n",
       "      <th>div_da</th>\n",
       "    </tr>\n",
       "  </thead>\n",
       "  <tbody>\n",
       "    <tr>\n",
       "      <th>0</th>\n",
       "      <td>2006-09-06</td>\n",
       "      <td>1975-12-18</td>\n",
       "      <td>1983-08-01</td>\n",
       "      <td>2000-06-26</td>\n",
       "      <td>1975</td>\n",
       "      <td>12</td>\n",
       "      <td>18</td>\n",
       "      <td>1983</td>\n",
       "      <td>8</td>\n",
       "      <td>1</td>\n",
       "      <td>2000</td>\n",
       "      <td>6</td>\n",
       "      <td>26</td>\n",
       "      <td>2006</td>\n",
       "      <td>9</td>\n",
       "      <td>6</td>\n",
       "    </tr>\n",
       "    <tr>\n",
       "      <th>2</th>\n",
       "      <td>2005-01-02</td>\n",
       "      <td>2055-02-22</td>\n",
       "      <td>2047-03-21</td>\n",
       "      <td>1975-12-18</td>\n",
       "      <td>2055</td>\n",
       "      <td>2</td>\n",
       "      <td>22</td>\n",
       "      <td>2047</td>\n",
       "      <td>3</td>\n",
       "      <td>21</td>\n",
       "      <td>1975</td>\n",
       "      <td>12</td>\n",
       "      <td>18</td>\n",
       "      <td>2005</td>\n",
       "      <td>1</td>\n",
       "      <td>2</td>\n",
       "    </tr>\n",
       "    <tr>\n",
       "      <th>4</th>\n",
       "      <td>2006-01-02</td>\n",
       "      <td>1975-10-30</td>\n",
       "      <td>1978-10-13</td>\n",
       "      <td>1998-11-14</td>\n",
       "      <td>1975</td>\n",
       "      <td>10</td>\n",
       "      <td>30</td>\n",
       "      <td>1978</td>\n",
       "      <td>10</td>\n",
       "      <td>13</td>\n",
       "      <td>1998</td>\n",
       "      <td>11</td>\n",
       "      <td>14</td>\n",
       "      <td>2006</td>\n",
       "      <td>1</td>\n",
       "      <td>2</td>\n",
       "    </tr>\n",
       "  </tbody>\n",
       "</table>\n",
       "</div>"
      ],
      "text/plain": [
       "         dod        man        wom        dom  man_yr  man_mo  man_da  wom_yr  \\\n",
       "0 2006-09-06 1975-12-18 1983-08-01 2000-06-26    1975      12      18    1983   \n",
       "2 2005-01-02 2055-02-22 2047-03-21 1975-12-18    2055       2      22    2047   \n",
       "4 2006-01-02 1975-10-30 1978-10-13 1998-11-14    1975      10      30    1978   \n",
       "\n",
       "   wom_mo  wom_da  mar_yr  mar_mo  mar_da  div_yr  div_mo  div_da  \n",
       "0       8       1    2000       6      26    2006       9       6  \n",
       "2       3      21    1975      12      18    2005       1       2  \n",
       "4      10      13    1998      11      14    2006       1       2  "
      ]
     },
     "execution_count": 104,
     "metadata": {},
     "output_type": "execute_result"
    }
   ],
   "source": [
    "# make temp columns to calc correct century\n",
    "df['man_yr']  =pd.to_datetime(df['man']).dt.year\n",
    "df['man_mo'] =pd.to_datetime(df['man']).dt.month\n",
    "df['man_da']   =pd.to_datetime(df['man']).dt.day\n",
    "\n",
    "df['wom_yr']  =pd.to_datetime(df['wom']).dt.year\n",
    "df['wom_mo'] =pd.to_datetime(df['wom']).dt.month\n",
    "df['wom_da']   =pd.to_datetime(df['wom']).dt.day\n",
    "\n",
    "df['mar_yr']  =pd.to_datetime(df['dom']).dt.year\n",
    "df['mar_mo'] =pd.to_datetime(df['dom']).dt.month\n",
    "df['mar_da']   =pd.to_datetime(df['dom']).dt.day\n",
    "\n",
    "df['div_yr']  =pd.to_datetime(df['dod']).dt.year\n",
    "df['div_mo'] =pd.to_datetime(df['dod']).dt.month\n",
    "df['div_da']   =pd.to_datetime(df['dod']).dt.day\n",
    "\n",
    "\n",
    "df.head(3)"
   ]
  },
  {
   "cell_type": "code",
   "execution_count": 105,
   "metadata": {},
   "outputs": [
    {
     "data": {
      "text/html": [
       "<div>\n",
       "<style scoped>\n",
       "    .dataframe tbody tr th:only-of-type {\n",
       "        vertical-align: middle;\n",
       "    }\n",
       "\n",
       "    .dataframe tbody tr th {\n",
       "        vertical-align: top;\n",
       "    }\n",
       "\n",
       "    .dataframe thead th {\n",
       "        text-align: right;\n",
       "    }\n",
       "</style>\n",
       "<table border=\"1\" class=\"dataframe\">\n",
       "  <thead>\n",
       "    <tr style=\"text-align: right;\">\n",
       "      <th></th>\n",
       "      <th>dod</th>\n",
       "      <th>man</th>\n",
       "      <th>wom</th>\n",
       "      <th>dom</th>\n",
       "      <th>man_yr</th>\n",
       "      <th>man_mo</th>\n",
       "      <th>man_da</th>\n",
       "      <th>wom_yr</th>\n",
       "      <th>wom_mo</th>\n",
       "      <th>wom_da</th>\n",
       "      <th>mar_yr</th>\n",
       "      <th>mar_mo</th>\n",
       "      <th>mar_da</th>\n",
       "      <th>div_yr</th>\n",
       "      <th>div_mo</th>\n",
       "      <th>div_da</th>\n",
       "    </tr>\n",
       "  </thead>\n",
       "  <tbody>\n",
       "    <tr>\n",
       "      <th>0</th>\n",
       "      <td>2006-09-06</td>\n",
       "      <td>1975-12-18</td>\n",
       "      <td>1983-08-01</td>\n",
       "      <td>2000-06-26</td>\n",
       "      <td>1975</td>\n",
       "      <td>12</td>\n",
       "      <td>18</td>\n",
       "      <td>1983</td>\n",
       "      <td>8</td>\n",
       "      <td>1</td>\n",
       "      <td>2000</td>\n",
       "      <td>6</td>\n",
       "      <td>26</td>\n",
       "      <td>2006</td>\n",
       "      <td>9</td>\n",
       "      <td>6</td>\n",
       "    </tr>\n",
       "    <tr>\n",
       "      <th>2</th>\n",
       "      <td>2005-01-02</td>\n",
       "      <td>2055-02-22</td>\n",
       "      <td>2047-03-21</td>\n",
       "      <td>1975-12-18</td>\n",
       "      <td>1955</td>\n",
       "      <td>2</td>\n",
       "      <td>22</td>\n",
       "      <td>1947</td>\n",
       "      <td>3</td>\n",
       "      <td>21</td>\n",
       "      <td>1975</td>\n",
       "      <td>12</td>\n",
       "      <td>18</td>\n",
       "      <td>2005</td>\n",
       "      <td>1</td>\n",
       "      <td>2</td>\n",
       "    </tr>\n",
       "    <tr>\n",
       "      <th>4</th>\n",
       "      <td>2006-01-02</td>\n",
       "      <td>1975-10-30</td>\n",
       "      <td>1978-10-13</td>\n",
       "      <td>1998-11-14</td>\n",
       "      <td>1975</td>\n",
       "      <td>10</td>\n",
       "      <td>30</td>\n",
       "      <td>1978</td>\n",
       "      <td>10</td>\n",
       "      <td>13</td>\n",
       "      <td>1998</td>\n",
       "      <td>11</td>\n",
       "      <td>14</td>\n",
       "      <td>2006</td>\n",
       "      <td>1</td>\n",
       "      <td>2</td>\n",
       "    </tr>\n",
       "  </tbody>\n",
       "</table>\n",
       "</div>"
      ],
      "text/plain": [
       "         dod        man        wom        dom  man_yr  man_mo  man_da  wom_yr  \\\n",
       "0 2006-09-06 1975-12-18 1983-08-01 2000-06-26    1975      12      18    1983   \n",
       "2 2005-01-02 2055-02-22 2047-03-21 1975-12-18    1955       2      22    1947   \n",
       "4 2006-01-02 1975-10-30 1978-10-13 1998-11-14    1975      10      30    1978   \n",
       "\n",
       "   wom_mo  wom_da  mar_yr  mar_mo  mar_da  div_yr  div_mo  div_da  \n",
       "0       8       1    2000       6      26    2006       9       6  \n",
       "2       3      21    1975      12      18    2005       1       2  \n",
       "4      10      13    1998      11      14    2006       1       2  "
      ]
     },
     "execution_count": 105,
     "metadata": {},
     "output_type": "execute_result"
    }
   ],
   "source": [
    "# calc century based on this year (2021) : hardcoded \n",
    "df['man_yr']= df['man_yr'].apply(lambda x: x-100 if x>2021 else x ) \n",
    "df['wom_yr']= df['wom_yr'].apply(lambda x: x-100 if x>2021 else x ) \n",
    "df['mar_yr']= df['mar_yr'].apply(lambda x: x-100 if x>2021 else x ) \n",
    "df['div_yr']= df['div_yr'].apply(lambda x: x-100 if x>2021 else x ) \n",
    "df.head(3)"
   ]
  },
  {
   "cell_type": "code",
   "execution_count": 106,
   "metadata": {},
   "outputs": [
    {
     "name": "stdout",
     "output_type": "stream",
     "text": [
      "DF final\n"
     ]
    },
    {
     "data": {
      "text/html": [
       "<div>\n",
       "<style scoped>\n",
       "    .dataframe tbody tr th:only-of-type {\n",
       "        vertical-align: middle;\n",
       "    }\n",
       "\n",
       "    .dataframe tbody tr th {\n",
       "        vertical-align: top;\n",
       "    }\n",
       "\n",
       "    .dataframe thead th {\n",
       "        text-align: right;\n",
       "    }\n",
       "</style>\n",
       "<table border=\"1\" class=\"dataframe\">\n",
       "  <thead>\n",
       "    <tr style=\"text-align: right;\">\n",
       "      <th></th>\n",
       "      <th>dod</th>\n",
       "      <th>man</th>\n",
       "      <th>wom</th>\n",
       "      <th>dom</th>\n",
       "    </tr>\n",
       "  </thead>\n",
       "  <tbody>\n",
       "    <tr>\n",
       "      <th>0</th>\n",
       "      <td>2006-09-06</td>\n",
       "      <td>1975-12-18</td>\n",
       "      <td>1983-08-01</td>\n",
       "      <td>2000-06-26</td>\n",
       "    </tr>\n",
       "    <tr>\n",
       "      <th>2</th>\n",
       "      <td>2005-01-02</td>\n",
       "      <td>1955-02-22</td>\n",
       "      <td>1947-03-21</td>\n",
       "      <td>1975-12-18</td>\n",
       "    </tr>\n",
       "    <tr>\n",
       "      <th>4</th>\n",
       "      <td>2006-01-02</td>\n",
       "      <td>1975-10-30</td>\n",
       "      <td>1978-10-13</td>\n",
       "      <td>1998-11-14</td>\n",
       "    </tr>\n",
       "  </tbody>\n",
       "</table>\n",
       "</div>"
      ],
      "text/plain": [
       "          dod         man         wom         dom\n",
       "0  2006-09-06  1975-12-18  1983-08-01  2000-06-26\n",
       "2  2005-01-02  1955-02-22  1947-03-21  1975-12-18\n",
       "4  2006-01-02  1975-10-30  1978-10-13  1998-11-14"
      ]
     },
     "execution_count": 106,
     "metadata": {},
     "output_type": "execute_result"
    }
   ],
   "source": [
    "# re-assign birthdates ,mar,div based on corrected centuries:\n",
    "df['man']=df.apply( lambda x: d( x.man_yr,x.man_mo,x.man_da ) ,axis=1)\n",
    "df['wom']=df.apply( lambda x: d( x.wom_yr,x.wom_mo,x.wom_da ) ,axis=1)\n",
    "df['dom']=df.apply( lambda x: d( x.mar_yr,x.mar_mo,x.mar_da ) ,axis=1)\n",
    "df['dod']=df.apply( lambda x: d( x.div_yr,x.div_mo,x.div_da ) ,axis=1)\n",
    "\n",
    "# drop temp columns\n",
    "df.drop([ 'man_yr','man_mo','man_da'\n",
    "         ,'wom_yr','wom_mo','wom_da'\n",
    "         ,'mar_yr','mar_mo','mar_da'\n",
    "         ,'div_yr','div_mo','div_da'\n",
    "        ]\n",
    "        , axis = 1\n",
    "        , inplace = True)\n",
    "print('DF final')\n",
    "df.head(3)"
   ]
  },
  {
   "cell_type": "markdown",
   "metadata": {},
   "source": [
    "# DATA CLEANED"
   ]
  },
  {
   "cell_type": "code",
   "execution_count": 107,
   "metadata": {},
   "outputs": [
    {
     "data": {
      "text/html": [
       "<div>\n",
       "<style scoped>\n",
       "    .dataframe tbody tr th:only-of-type {\n",
       "        vertical-align: middle;\n",
       "    }\n",
       "\n",
       "    .dataframe tbody tr th {\n",
       "        vertical-align: top;\n",
       "    }\n",
       "\n",
       "    .dataframe thead th {\n",
       "        text-align: right;\n",
       "    }\n",
       "</style>\n",
       "<table border=\"1\" class=\"dataframe\">\n",
       "  <thead>\n",
       "    <tr style=\"text-align: right;\">\n",
       "      <th></th>\n",
       "      <th>dod</th>\n",
       "      <th>man</th>\n",
       "      <th>wom</th>\n",
       "      <th>dom</th>\n",
       "    </tr>\n",
       "  </thead>\n",
       "  <tbody>\n",
       "    <tr>\n",
       "      <th>0</th>\n",
       "      <td>2006-09-06</td>\n",
       "      <td>1975-12-18</td>\n",
       "      <td>1983-08-01</td>\n",
       "      <td>2000-06-26</td>\n",
       "    </tr>\n",
       "    <tr>\n",
       "      <th>2</th>\n",
       "      <td>2005-01-02</td>\n",
       "      <td>1955-02-22</td>\n",
       "      <td>1947-03-21</td>\n",
       "      <td>1975-12-18</td>\n",
       "    </tr>\n",
       "    <tr>\n",
       "      <th>4</th>\n",
       "      <td>2006-01-02</td>\n",
       "      <td>1975-10-30</td>\n",
       "      <td>1978-10-13</td>\n",
       "      <td>1998-11-14</td>\n",
       "    </tr>\n",
       "  </tbody>\n",
       "</table>\n",
       "</div>"
      ],
      "text/plain": [
       "          dod         man         wom         dom\n",
       "0  2006-09-06  1975-12-18  1983-08-01  2000-06-26\n",
       "2  2005-01-02  1955-02-22  1947-03-21  1975-12-18\n",
       "4  2006-01-02  1975-10-30  1978-10-13  1998-11-14"
      ]
     },
     "execution_count": 107,
     "metadata": {},
     "output_type": "execute_result"
    }
   ],
   "source": [
    "# df_dob=df.copy('deep')\n",
    "df.head(3)"
   ]
  },
  {
   "cell_type": "code",
   "execution_count": 108,
   "metadata": {},
   "outputs": [
    {
     "data": {
      "text/html": [
       "<div>\n",
       "<style scoped>\n",
       "    .dataframe tbody tr th:only-of-type {\n",
       "        vertical-align: middle;\n",
       "    }\n",
       "\n",
       "    .dataframe tbody tr th {\n",
       "        vertical-align: top;\n",
       "    }\n",
       "\n",
       "    .dataframe thead th {\n",
       "        text-align: right;\n",
       "    }\n",
       "</style>\n",
       "<table border=\"1\" class=\"dataframe\">\n",
       "  <thead>\n",
       "    <tr style=\"text-align: right;\">\n",
       "      <th></th>\n",
       "      <th>dod</th>\n",
       "      <th>man</th>\n",
       "      <th>wom</th>\n",
       "      <th>dom</th>\n",
       "      <th>age_dif</th>\n",
       "      <th>abs_dif</th>\n",
       "      <th>mar_len</th>\n",
       "      <th>age_man</th>\n",
       "      <th>age_wom</th>\n",
       "      <th>age_min</th>\n",
       "      <th>age_max</th>\n",
       "      <th>pct_up</th>\n",
       "      <th>pct_dn</th>\n",
       "    </tr>\n",
       "  </thead>\n",
       "  <tbody>\n",
       "    <tr>\n",
       "      <th>0</th>\n",
       "      <td>2006-09-06</td>\n",
       "      <td>1975-12-18</td>\n",
       "      <td>1983-08-01</td>\n",
       "      <td>2000-06-26</td>\n",
       "      <td>8</td>\n",
       "      <td>8</td>\n",
       "      <td>6</td>\n",
       "      <td>24</td>\n",
       "      <td>17</td>\n",
       "      <td>17</td>\n",
       "      <td>24</td>\n",
       "      <td>47</td>\n",
       "      <td>33</td>\n",
       "    </tr>\n",
       "    <tr>\n",
       "      <th>2</th>\n",
       "      <td>2005-01-02</td>\n",
       "      <td>1955-02-22</td>\n",
       "      <td>1947-03-21</td>\n",
       "      <td>1975-12-18</td>\n",
       "      <td>-8</td>\n",
       "      <td>8</td>\n",
       "      <td>29</td>\n",
       "      <td>21</td>\n",
       "      <td>29</td>\n",
       "      <td>21</td>\n",
       "      <td>29</td>\n",
       "      <td>38</td>\n",
       "      <td>28</td>\n",
       "    </tr>\n",
       "    <tr>\n",
       "      <th>4</th>\n",
       "      <td>2006-01-02</td>\n",
       "      <td>1975-10-30</td>\n",
       "      <td>1978-10-13</td>\n",
       "      <td>1998-11-14</td>\n",
       "      <td>3</td>\n",
       "      <td>3</td>\n",
       "      <td>7</td>\n",
       "      <td>23</td>\n",
       "      <td>20</td>\n",
       "      <td>20</td>\n",
       "      <td>23</td>\n",
       "      <td>15</td>\n",
       "      <td>13</td>\n",
       "    </tr>\n",
       "  </tbody>\n",
       "</table>\n",
       "</div>"
      ],
      "text/plain": [
       "          dod         man         wom         dom  age_dif  abs_dif  mar_len  \\\n",
       "0  2006-09-06  1975-12-18  1983-08-01  2000-06-26        8        8        6   \n",
       "2  2005-01-02  1955-02-22  1947-03-21  1975-12-18       -8        8       29   \n",
       "4  2006-01-02  1975-10-30  1978-10-13  1998-11-14        3        3        7   \n",
       "\n",
       "   age_man  age_wom  age_min  age_max  pct_up  pct_dn  \n",
       "0       24       17       17       24      47      33  \n",
       "2       21       29       21       29      38      28  \n",
       "4       23       20       20       23      15      13  "
      ]
     },
     "execution_count": 108,
     "metadata": {},
     "output_type": "execute_result"
    }
   ],
   "source": [
    "# calc age_dif, age_man age_woman\n",
    "df['age_dif'] = df.apply( lambda x: \n",
    "                            round(  (  rd( x['wom'], x['man']).years*12 \n",
    "                                     + rd( x['wom'], x['man']).months  \n",
    "                                     )/12\n",
    "                                  )\n",
    "                         ,axis = 1)\n",
    "df['abs_dif'] = df.apply( lambda x: \n",
    "                            abs( x['age_dif'] )\n",
    "                         ,axis = 1)\n",
    "\n",
    "df['mar_len'] = df.apply( lambda x: \n",
    "                            round(  (  rd( x['dod'], x['dom']).years*12 \n",
    "                                     + rd( x['dod'], x['dom']).months  \n",
    "                                     )/12\n",
    "                                  )\n",
    "                         ,axis = 1)\n",
    "\n",
    "\n",
    "df['age_man'] = df.apply( lambda x: \n",
    "                            round(  (  rd( x['dom'], x['man']).years*12 \n",
    "                                     + rd( x['dom'], x['man']).months  \n",
    "                                     )/12\n",
    "                                  )\n",
    "                         ,axis = 1)\n",
    "\n",
    "df['age_wom'] = df.apply( lambda x: \n",
    "                            round(  (  rd( x['dom'], x['wom']).years*12 \n",
    "                                     + rd( x['dom'], x['wom']).months  \n",
    "                                     )/12\n",
    "                                  )\n",
    "                         ,axis = 1)\n",
    "              \n",
    "\n",
    "df['age_min'] = df.apply( lambda x: min( x['age_man'],x['age_wom'] )\n",
    "                        ,axis = 1)\n",
    "\n",
    "df['age_max'] = df.apply( lambda x: \n",
    "                            max( x['age_man'],x['age_wom'] )\n",
    "                         ,axis = 1)\n",
    "\n",
    "df['pct_up'] = df.apply( lambda x: \n",
    "                          round( x['abs_dif']/x['age_min'] *100)\n",
    "                         ,axis = 1)\n",
    "\n",
    "df['pct_dn'] = df.apply( lambda x: \n",
    "                          round( x['abs_dif']/x['age_max'] *100)\n",
    "                         ,axis = 1)\n",
    "\n",
    "df.head(3)"
   ]
  },
  {
   "cell_type": "code",
   "execution_count": 109,
   "metadata": {},
   "outputs": [
    {
     "data": {
      "text/html": [
       "<div>\n",
       "<style scoped>\n",
       "    .dataframe tbody tr th:only-of-type {\n",
       "        vertical-align: middle;\n",
       "    }\n",
       "\n",
       "    .dataframe tbody tr th {\n",
       "        vertical-align: top;\n",
       "    }\n",
       "\n",
       "    .dataframe thead th {\n",
       "        text-align: right;\n",
       "    }\n",
       "</style>\n",
       "<table border=\"1\" class=\"dataframe\">\n",
       "  <thead>\n",
       "    <tr style=\"text-align: right;\">\n",
       "      <th></th>\n",
       "      <th>dod</th>\n",
       "      <th>man</th>\n",
       "      <th>wom</th>\n",
       "      <th>dom</th>\n",
       "      <th>age_dif</th>\n",
       "      <th>abs_dif</th>\n",
       "      <th>mar_len</th>\n",
       "      <th>age_man</th>\n",
       "      <th>age_wom</th>\n",
       "      <th>age_min</th>\n",
       "      <th>age_max</th>\n",
       "      <th>pct_up</th>\n",
       "      <th>pct_dn</th>\n",
       "    </tr>\n",
       "  </thead>\n",
       "  <tbody>\n",
       "    <tr>\n",
       "      <th>462</th>\n",
       "      <td>2001-04-01</td>\n",
       "      <td>1943-03-06</td>\n",
       "      <td>1954-05-01</td>\n",
       "      <td>1931-08-31</td>\n",
       "      <td>11</td>\n",
       "      <td>11</td>\n",
       "      <td>70</td>\n",
       "      <td>-12</td>\n",
       "      <td>-23</td>\n",
       "      <td>-23</td>\n",
       "      <td>-12</td>\n",
       "      <td>-48</td>\n",
       "      <td>-92</td>\n",
       "    </tr>\n",
       "    <tr>\n",
       "      <th>1799</th>\n",
       "      <td>2004-12-02</td>\n",
       "      <td>1944-12-06</td>\n",
       "      <td>1997-02-01</td>\n",
       "      <td>1967-10-16</td>\n",
       "      <td>52</td>\n",
       "      <td>52</td>\n",
       "      <td>37</td>\n",
       "      <td>23</td>\n",
       "      <td>-29</td>\n",
       "      <td>-29</td>\n",
       "      <td>23</td>\n",
       "      <td>-179</td>\n",
       "      <td>226</td>\n",
       "    </tr>\n",
       "  </tbody>\n",
       "</table>\n",
       "</div>"
      ],
      "text/plain": [
       "             dod         man         wom         dom  age_dif  abs_dif  \\\n",
       "462   2001-04-01  1943-03-06  1954-05-01  1931-08-31       11       11   \n",
       "1799  2004-12-02  1944-12-06  1997-02-01  1967-10-16       52       52   \n",
       "\n",
       "      mar_len  age_man  age_wom  age_min  age_max  pct_up  pct_dn  \n",
       "462        70      -12      -23      -23      -12     -48     -92  \n",
       "1799       37       23      -29      -29       23    -179     226  "
      ]
     },
     "execution_count": 109,
     "metadata": {},
     "output_type": "execute_result"
    }
   ],
   "source": [
    "df[df['age_wom']<0]"
   ]
  },
  {
   "cell_type": "code",
   "execution_count": 110,
   "metadata": {},
   "outputs": [],
   "source": [
    "df.drop( [462,1799]\n",
    "           , axis = 0, inplace = True)"
   ]
  },
  {
   "cell_type": "code",
   "execution_count": 111,
   "metadata": {},
   "outputs": [],
   "source": [
    "# df[ df['age_man']<15]"
   ]
  },
  {
   "cell_type": "code",
   "execution_count": 112,
   "metadata": {},
   "outputs": [],
   "source": [
    "# df[ df['age_wom']<15 ]"
   ]
  },
  {
   "cell_type": "code",
   "execution_count": 113,
   "metadata": {},
   "outputs": [
    {
     "data": {
      "image/png": "[encoded data removed]",
      "text/plain": [
       "<Figure size 576x288 with 1 Axes>"
      ]
     },
     "metadata": {
      "needs_background": "light"
     },
     "output_type": "display_data"
    }
   ],
   "source": [
    "import matplotlib.pyplot as plt\n",
    "fig , ax = plt.subplots(figsize=(8,4))\n",
    "ax.set_title='Age Difference'\n",
    "ax.hist(df['age_dif'],bins = 100);\n",
    "# plt.show()\n",
    "fig.tight_layout();"
   ]
  },
  {
   "cell_type": "code",
   "execution_count": 114,
   "metadata": {},
   "outputs": [
    {
     "data": {
      "image/png": "[encoded data removed]",
      "text/plain": [
       "<Figure size 576x288 with 1 Axes>"
      ]
     },
     "metadata": {
      "needs_background": "light"
     },
     "output_type": "display_data"
    }
   ],
   "source": [
    "import matplotlib.pyplot as plt\n",
    "fig , ax = plt.subplots(figsize=(8,4))\n",
    "ax.hist(df['abs_dif'],bins =100);"
   ]
  },
  {
   "cell_type": "code",
   "execution_count": 115,
   "metadata": {},
   "outputs": [
    {
     "data": {
      "image/png": "[encoded data removed]",
      "text/plain": [
       "<Figure size 432x288 with 1 Axes>"
      ]
     },
     "metadata": {
      "needs_background": "light"
     },
     "output_type": "display_data"
    }
   ],
   "source": [
    "import matplotlib.pyplot as plt\n",
    "fig , ax = plt.subplots()\n",
    "ax.hist(df['mar_len'],bins =100);"
   ]
  },
  {
   "cell_type": "code",
   "execution_count": 145,
   "metadata": {},
   "outputs": [
    {
     "data": {
      "text/plain": [
       "<AxesSubplot:>"
      ]
     },
     "execution_count": 145,
     "metadata": {},
     "output_type": "execute_result"
    },
    {
     "data": {
      "image/png": "[encoded data removed]",
      "text/plain": [
       "<Figure size 864x864 with 2 Axes>"
      ]
     },
     "metadata": {
      "needs_background": "light"
     },
     "output_type": "display_data"
    }
   ],
   "source": [
    "fig,ax = plt.subplots(figsize=(12,12))\n",
    "sn.heatmap(df.corr(),annot=True)\n",
    "# plt.show(snheat)"
   ]
  },
  {
   "cell_type": "code",
   "execution_count": 117,
   "metadata": {},
   "outputs": [
    {
     "data": {
      "text/html": [
       "<div>\n",
       "<style scoped>\n",
       "    .dataframe tbody tr th:only-of-type {\n",
       "        vertical-align: middle;\n",
       "    }\n",
       "\n",
       "    .dataframe tbody tr th {\n",
       "        vertical-align: top;\n",
       "    }\n",
       "\n",
       "    .dataframe thead th {\n",
       "        text-align: right;\n",
       "    }\n",
       "</style>\n",
       "<table border=\"1\" class=\"dataframe\">\n",
       "  <thead>\n",
       "    <tr style=\"text-align: right;\">\n",
       "      <th></th>\n",
       "      <th>abs_dif</th>\n",
       "      <th>mar_len</th>\n",
       "    </tr>\n",
       "  </thead>\n",
       "  <tbody>\n",
       "    <tr>\n",
       "      <th>0</th>\n",
       "      <td>8</td>\n",
       "      <td>6</td>\n",
       "    </tr>\n",
       "    <tr>\n",
       "      <th>2</th>\n",
       "      <td>8</td>\n",
       "      <td>29</td>\n",
       "    </tr>\n",
       "    <tr>\n",
       "      <th>4</th>\n",
       "      <td>3</td>\n",
       "      <td>7</td>\n",
       "    </tr>\n",
       "    <tr>\n",
       "      <th>5</th>\n",
       "      <td>3</td>\n",
       "      <td>11</td>\n",
       "    </tr>\n",
       "    <tr>\n",
       "      <th>6</th>\n",
       "      <td>0</td>\n",
       "      <td>15</td>\n",
       "    </tr>\n",
       "    <tr>\n",
       "      <th>...</th>\n",
       "      <td>...</td>\n",
       "      <td>...</td>\n",
       "    </tr>\n",
       "    <tr>\n",
       "      <th>4918</th>\n",
       "      <td>1</td>\n",
       "      <td>4</td>\n",
       "    </tr>\n",
       "    <tr>\n",
       "      <th>4919</th>\n",
       "      <td>1</td>\n",
       "      <td>1</td>\n",
       "    </tr>\n",
       "    <tr>\n",
       "      <th>4920</th>\n",
       "      <td>2</td>\n",
       "      <td>36</td>\n",
       "    </tr>\n",
       "    <tr>\n",
       "      <th>4921</th>\n",
       "      <td>6</td>\n",
       "      <td>34</td>\n",
       "    </tr>\n",
       "    <tr>\n",
       "      <th>4922</th>\n",
       "      <td>12</td>\n",
       "      <td>4</td>\n",
       "    </tr>\n",
       "  </tbody>\n",
       "</table>\n",
       "<p>4372 rows × 2 columns</p>\n",
       "</div>"
      ],
      "text/plain": [
       "      abs_dif  mar_len\n",
       "0           8        6\n",
       "2           8       29\n",
       "4           3        7\n",
       "5           3       11\n",
       "6           0       15\n",
       "...       ...      ...\n",
       "4918        1        4\n",
       "4919        1        1\n",
       "4920        2       36\n",
       "4921        6       34\n",
       "4922       12        4\n",
       "\n",
       "[4372 rows x 2 columns]"
      ]
     },
     "execution_count": 117,
     "metadata": {},
     "output_type": "execute_result"
    }
   ],
   "source": [
    "\n",
    "( df.loc[ : , ['abs_dif','mar_len'] ] )"
   ]
  },
  {
   "cell_type": "code",
   "execution_count": 118,
   "metadata": {},
   "outputs": [
    {
     "data": {
      "text/html": [
       "<div>\n",
       "<style scoped>\n",
       "    .dataframe tbody tr th:only-of-type {\n",
       "        vertical-align: middle;\n",
       "    }\n",
       "\n",
       "    .dataframe tbody tr th {\n",
       "        vertical-align: top;\n",
       "    }\n",
       "\n",
       "    .dataframe thead th {\n",
       "        text-align: right;\n",
       "    }\n",
       "</style>\n",
       "<table border=\"1\" class=\"dataframe\">\n",
       "  <thead>\n",
       "    <tr style=\"text-align: right;\">\n",
       "      <th></th>\n",
       "      <th>abs_dif</th>\n",
       "      <th>mar_len</th>\n",
       "    </tr>\n",
       "  </thead>\n",
       "  <tbody>\n",
       "    <tr>\n",
       "      <th>0</th>\n",
       "      <td>8</td>\n",
       "      <td>6</td>\n",
       "    </tr>\n",
       "    <tr>\n",
       "      <th>2</th>\n",
       "      <td>8</td>\n",
       "      <td>29</td>\n",
       "    </tr>\n",
       "    <tr>\n",
       "      <th>4</th>\n",
       "      <td>3</td>\n",
       "      <td>7</td>\n",
       "    </tr>\n",
       "    <tr>\n",
       "      <th>5</th>\n",
       "      <td>3</td>\n",
       "      <td>11</td>\n",
       "    </tr>\n",
       "    <tr>\n",
       "      <th>6</th>\n",
       "      <td>0</td>\n",
       "      <td>15</td>\n",
       "    </tr>\n",
       "    <tr>\n",
       "      <th>...</th>\n",
       "      <td>...</td>\n",
       "      <td>...</td>\n",
       "    </tr>\n",
       "    <tr>\n",
       "      <th>4918</th>\n",
       "      <td>1</td>\n",
       "      <td>4</td>\n",
       "    </tr>\n",
       "    <tr>\n",
       "      <th>4919</th>\n",
       "      <td>1</td>\n",
       "      <td>1</td>\n",
       "    </tr>\n",
       "    <tr>\n",
       "      <th>4920</th>\n",
       "      <td>2</td>\n",
       "      <td>36</td>\n",
       "    </tr>\n",
       "    <tr>\n",
       "      <th>4921</th>\n",
       "      <td>6</td>\n",
       "      <td>34</td>\n",
       "    </tr>\n",
       "    <tr>\n",
       "      <th>4922</th>\n",
       "      <td>12</td>\n",
       "      <td>4</td>\n",
       "    </tr>\n",
       "  </tbody>\n",
       "</table>\n",
       "<p>4372 rows × 2 columns</p>\n",
       "</div>"
      ],
      "text/plain": [
       "      abs_dif  mar_len\n",
       "0           8        6\n",
       "2           8       29\n",
       "4           3        7\n",
       "5           3       11\n",
       "6           0       15\n",
       "...       ...      ...\n",
       "4918        1        4\n",
       "4919        1        1\n",
       "4920        2       36\n",
       "4921        6       34\n",
       "4922       12        4\n",
       "\n",
       "[4372 rows x 2 columns]"
      ]
     },
     "execution_count": 118,
     "metadata": {},
     "output_type": "execute_result"
    }
   ],
   "source": [
    "df[ ['abs_dif','mar_len'] ]"
   ]
  },
  {
   "cell_type": "code",
   "execution_count": 119,
   "metadata": {
    "scrolled": true
   },
   "outputs": [
    {
     "data": {
      "text/html": [
       "<div>\n",
       "<style scoped>\n",
       "    .dataframe tbody tr th:only-of-type {\n",
       "        vertical-align: middle;\n",
       "    }\n",
       "\n",
       "    .dataframe tbody tr th {\n",
       "        vertical-align: top;\n",
       "    }\n",
       "\n",
       "    .dataframe thead th {\n",
       "        text-align: right;\n",
       "    }\n",
       "</style>\n",
       "<table border=\"1\" class=\"dataframe\">\n",
       "  <thead>\n",
       "    <tr style=\"text-align: right;\">\n",
       "      <th></th>\n",
       "      <th>dod</th>\n",
       "      <th>man</th>\n",
       "      <th>wom</th>\n",
       "      <th>dom</th>\n",
       "      <th>age_dif</th>\n",
       "      <th>abs_dif</th>\n",
       "      <th>mar_len</th>\n",
       "      <th>age_man</th>\n",
       "      <th>age_wom</th>\n",
       "      <th>age_min</th>\n",
       "      <th>age_max</th>\n",
       "      <th>pct_up</th>\n",
       "      <th>pct_dn</th>\n",
       "    </tr>\n",
       "  </thead>\n",
       "  <tbody>\n",
       "    <tr>\n",
       "      <th>0</th>\n",
       "      <td>2006-09-06</td>\n",
       "      <td>1975-12-18</td>\n",
       "      <td>1983-08-01</td>\n",
       "      <td>2000-06-26</td>\n",
       "      <td>8</td>\n",
       "      <td>8</td>\n",
       "      <td>6</td>\n",
       "      <td>24</td>\n",
       "      <td>17</td>\n",
       "      <td>17</td>\n",
       "      <td>24</td>\n",
       "      <td>47</td>\n",
       "      <td>33</td>\n",
       "    </tr>\n",
       "    <tr>\n",
       "      <th>2</th>\n",
       "      <td>2005-01-02</td>\n",
       "      <td>1955-02-22</td>\n",
       "      <td>1947-03-21</td>\n",
       "      <td>1975-12-18</td>\n",
       "      <td>-8</td>\n",
       "      <td>8</td>\n",
       "      <td>29</td>\n",
       "      <td>21</td>\n",
       "      <td>29</td>\n",
       "      <td>21</td>\n",
       "      <td>29</td>\n",
       "      <td>38</td>\n",
       "      <td>28</td>\n",
       "    </tr>\n",
       "    <tr>\n",
       "      <th>4</th>\n",
       "      <td>2006-01-02</td>\n",
       "      <td>1975-10-30</td>\n",
       "      <td>1978-10-13</td>\n",
       "      <td>1998-11-14</td>\n",
       "      <td>3</td>\n",
       "      <td>3</td>\n",
       "      <td>7</td>\n",
       "      <td>23</td>\n",
       "      <td>20</td>\n",
       "      <td>20</td>\n",
       "      <td>23</td>\n",
       "      <td>15</td>\n",
       "      <td>13</td>\n",
       "    </tr>\n",
       "  </tbody>\n",
       "</table>\n",
       "</div>"
      ],
      "text/plain": [
       "          dod         man         wom         dom  age_dif  abs_dif  mar_len  \\\n",
       "0  2006-09-06  1975-12-18  1983-08-01  2000-06-26        8        8        6   \n",
       "2  2005-01-02  1955-02-22  1947-03-21  1975-12-18       -8        8       29   \n",
       "4  2006-01-02  1975-10-30  1978-10-13  1998-11-14        3        3        7   \n",
       "\n",
       "   age_man  age_wom  age_min  age_max  pct_up  pct_dn  \n",
       "0       24       17       17       24      47      33  \n",
       "2       21       29       21       29      38      28  \n",
       "4       23       20       20       23      15      13  "
      ]
     },
     "execution_count": 119,
     "metadata": {},
     "output_type": "execute_result"
    }
   ],
   "source": [
    "df.head(3)"
   ]
  },
  {
   "cell_type": "code",
   "execution_count": 120,
   "metadata": {},
   "outputs": [
    {
     "data": {
      "text/plain": [
       "<matplotlib.collections.PathCollection at 0x7f11b47cdc70>"
      ]
     },
     "execution_count": 120,
     "metadata": {},
     "output_type": "execute_result"
    },
    {
     "data": {
      "image/png": "[encoded data removed]",
      "text/plain": [
       "<Figure size 432x288 with 1 Axes>"
      ]
     },
     "metadata": {
      "needs_background": "light"
     },
     "output_type": "display_data"
    }
   ],
   "source": [
    "import matplotlib.pyplot as plt\n",
    "fig , ax = plt.subplots()\n",
    "ax.scatter( df['age_man'],df['age_wom'],s=.1)\n",
    "# ax.line([10,10],[60,60])\n",
    "ax.scatter( list(range(10,61)),list(range(10,61)),s=10)\n",
    "\n",
    "\n"
   ]
  },
  {
   "cell_type": "code",
   "execution_count": 121,
   "metadata": {},
   "outputs": [
    {
     "data": {
      "text/plain": [
       "<matplotlib.collections.PathCollection at 0x7f11b46be520>"
      ]
     },
     "execution_count": 121,
     "metadata": {},
     "output_type": "execute_result"
    },
    {
     "data": {
      "image/png": "[encoded data removed]",
      "text/plain": [
       "<Figure size 432x288 with 1 Axes>"
      ]
     },
     "metadata": {
      "needs_background": "light"
     },
     "output_type": "display_data"
    }
   ],
   "source": [
    "import matplotlib.pyplot as plt\n",
    "fig , ax = plt.subplots()\n",
    "ax.scatter( df['abs_dif'],df['mar_len'],s=.1)\n",
    "# ax.line([10,10],[60,60])\n"
   ]
  },
  {
   "cell_type": "code",
   "execution_count": 122,
   "metadata": {},
   "outputs": [
    {
     "data": {
      "text/plain": [
       "(2.329139981701738, 5.212776824802249)"
      ]
     },
     "execution_count": 122,
     "metadata": {},
     "output_type": "execute_result"
    }
   ],
   "source": [
    "df['age_dif'].mean(),df['age_dif'].std()"
   ]
  },
  {
   "cell_type": "code",
   "execution_count": 123,
   "metadata": {},
   "outputs": [
    {
     "data": {
      "text/plain": [
       "(3.959057639524245, 4.113569381719339)"
      ]
     },
     "execution_count": 123,
     "metadata": {},
     "output_type": "execute_result"
    }
   ],
   "source": [
    "df['abs_dif'].mean(),df['abs_dif'].std()"
   ]
  },
  {
   "cell_type": "code",
   "execution_count": 124,
   "metadata": {},
   "outputs": [
    {
     "data": {
      "text/plain": [
       "(12.225754803293688, 9.267772071996777)"
      ]
     },
     "execution_count": 124,
     "metadata": {},
     "output_type": "execute_result"
    }
   ],
   "source": [
    "df['mar_len'].mean(),df['mar_len'].std()"
   ]
  },
  {
   "cell_type": "code",
   "execution_count": 125,
   "metadata": {},
   "outputs": [
    {
     "data": {
      "text/plain": [
       "(17.400274473924977, 19.622119471720953)"
      ]
     },
     "execution_count": 125,
     "metadata": {},
     "output_type": "execute_result"
    }
   ],
   "source": [
    "df['pct_up'].mean(),df['pct_up'].std()"
   ]
  },
  {
   "cell_type": "code",
   "execution_count": 126,
   "metadata": {},
   "outputs": [
    {
     "data": {
      "text/plain": [
       "(13.065645013723696, 10.968269785672646)"
      ]
     },
     "execution_count": 126,
     "metadata": {},
     "output_type": "execute_result"
    }
   ],
   "source": [
    "df['pct_dn'].mean(),df['pct_dn'].std()"
   ]
  },
  {
   "cell_type": "code",
   "execution_count": 148,
   "metadata": {},
   "outputs": [
    {
     "data": {
      "text/plain": [
       "<matplotlib.collections.PathCollection at 0x7f11b0151eb0>"
      ]
     },
     "execution_count": 148,
     "metadata": {},
     "output_type": "execute_result"
    },
    {
     "data": {
      "image/png": "[encoded data removed]",
      "text/plain": [
       "<Figure size 432x288 with 1 Axes>"
      ]
     },
     "metadata": {
      "needs_background": "light"
     },
     "output_type": "display_data"
    }
   ],
   "source": [
    "import matplotlib.pyplot as plt\n",
    "fig , ax = plt.subplots()\n",
    "ax.scatter( df['pct_up'],df['pct_dn'],s=1)\n",
    "# ax.line([10,10],[60,60])\n",
    "# ax.scatter( list(range(10,61)),list(range(10,61)),s=10)\n"
   ]
  },
  {
   "cell_type": "code",
   "execution_count": 152,
   "metadata": {},
   "outputs": [
    {
     "data": {
      "text/plain": [
       "<matplotlib.collections.PathCollection at 0x7f11afef7f70>"
      ]
     },
     "execution_count": 152,
     "metadata": {},
     "output_type": "execute_result"
    },
    {
     "data": {
      "image/png": "[encoded data removed]",
      "text/plain": [
       "<Figure size 864x432 with 2 Axes>"
      ]
     },
     "metadata": {
      "needs_background": "light"
     },
     "output_type": "display_data"
    }
   ],
   "source": [
    "import matplotlib.pyplot as plt\n",
    "fig , ax = plt.subplots(1,2,figsize=(12,6))\n",
    "ax[0].scatter( df['age_man'],df['abs_dif'],s=1)\n",
    "ax[1].scatter( df['age_wom'],df['abs_dif'],s=1)\n",
    "# ax.line([10,10],[60,60])\n",
    "# ax.scatter( list(range(10,61)),list(range(10,61)),s=10)"
   ]
  },
  {
   "cell_type": "code",
   "execution_count": 147,
   "metadata": {},
   "outputs": [
    {
     "data": {
      "text/plain": [
       "<matplotlib.collections.PathCollection at 0x7f11b0197250>"
      ]
     },
     "execution_count": 147,
     "metadata": {},
     "output_type": "execute_result"
    },
    {
     "data": {
      "image/png": "[encoded data removed]",
      "text/plain": [
       "<Figure size 432x288 with 1 Axes>"
      ]
     },
     "metadata": {
      "needs_background": "light"
     },
     "output_type": "display_data"
    }
   ],
   "source": [
    "import matplotlib.pyplot as plt\n",
    "fig , ax = plt.subplots()\n",
    "ax.scatter( df['abs_dif'],df['pct_dn'],s=1)"
   ]
  },
  {
   "cell_type": "code",
   "execution_count": 129,
   "metadata": {},
   "outputs": [
    {
     "data": {
      "text/html": [
       "<div>\n",
       "<style scoped>\n",
       "    .dataframe tbody tr th:only-of-type {\n",
       "        vertical-align: middle;\n",
       "    }\n",
       "\n",
       "    .dataframe tbody tr th {\n",
       "        vertical-align: top;\n",
       "    }\n",
       "\n",
       "    .dataframe thead th {\n",
       "        text-align: right;\n",
       "    }\n",
       "</style>\n",
       "<table border=\"1\" class=\"dataframe\">\n",
       "  <thead>\n",
       "    <tr style=\"text-align: right;\">\n",
       "      <th></th>\n",
       "      <th>dod</th>\n",
       "      <th>man</th>\n",
       "      <th>wom</th>\n",
       "      <th>dom</th>\n",
       "      <th>age_dif</th>\n",
       "      <th>abs_dif</th>\n",
       "      <th>mar_len</th>\n",
       "      <th>age_man</th>\n",
       "      <th>age_wom</th>\n",
       "      <th>age_min</th>\n",
       "      <th>age_max</th>\n",
       "      <th>pct_up</th>\n",
       "      <th>pct_dn</th>\n",
       "    </tr>\n",
       "  </thead>\n",
       "  <tbody>\n",
       "    <tr>\n",
       "      <th>0</th>\n",
       "      <td>2006-09-06</td>\n",
       "      <td>1975-12-18</td>\n",
       "      <td>1983-08-01</td>\n",
       "      <td>2000-06-26</td>\n",
       "      <td>8</td>\n",
       "      <td>8</td>\n",
       "      <td>6</td>\n",
       "      <td>24</td>\n",
       "      <td>17</td>\n",
       "      <td>17</td>\n",
       "      <td>24</td>\n",
       "      <td>47</td>\n",
       "      <td>33</td>\n",
       "    </tr>\n",
       "    <tr>\n",
       "      <th>2</th>\n",
       "      <td>2005-01-02</td>\n",
       "      <td>1955-02-22</td>\n",
       "      <td>1947-03-21</td>\n",
       "      <td>1975-12-18</td>\n",
       "      <td>-8</td>\n",
       "      <td>8</td>\n",
       "      <td>29</td>\n",
       "      <td>21</td>\n",
       "      <td>29</td>\n",
       "      <td>21</td>\n",
       "      <td>29</td>\n",
       "      <td>38</td>\n",
       "      <td>28</td>\n",
       "    </tr>\n",
       "    <tr>\n",
       "      <th>4</th>\n",
       "      <td>2006-01-02</td>\n",
       "      <td>1975-10-30</td>\n",
       "      <td>1978-10-13</td>\n",
       "      <td>1998-11-14</td>\n",
       "      <td>3</td>\n",
       "      <td>3</td>\n",
       "      <td>7</td>\n",
       "      <td>23</td>\n",
       "      <td>20</td>\n",
       "      <td>20</td>\n",
       "      <td>23</td>\n",
       "      <td>15</td>\n",
       "      <td>13</td>\n",
       "    </tr>\n",
       "    <tr>\n",
       "      <th>5</th>\n",
       "      <td>2006-01-02</td>\n",
       "      <td>1973-03-28</td>\n",
       "      <td>1976-06-14</td>\n",
       "      <td>1995-01-20</td>\n",
       "      <td>3</td>\n",
       "      <td>3</td>\n",
       "      <td>11</td>\n",
       "      <td>22</td>\n",
       "      <td>19</td>\n",
       "      <td>19</td>\n",
       "      <td>22</td>\n",
       "      <td>16</td>\n",
       "      <td>14</td>\n",
       "    </tr>\n",
       "    <tr>\n",
       "      <th>6</th>\n",
       "      <td>2007-01-02</td>\n",
       "      <td>1970-12-13</td>\n",
       "      <td>1971-04-11</td>\n",
       "      <td>1991-08-16</td>\n",
       "      <td>0</td>\n",
       "      <td>0</td>\n",
       "      <td>15</td>\n",
       "      <td>21</td>\n",
       "      <td>20</td>\n",
       "      <td>20</td>\n",
       "      <td>21</td>\n",
       "      <td>0</td>\n",
       "      <td>0</td>\n",
       "    </tr>\n",
       "  </tbody>\n",
       "</table>\n",
       "</div>"
      ],
      "text/plain": [
       "          dod         man         wom         dom  age_dif  abs_dif  mar_len  \\\n",
       "0  2006-09-06  1975-12-18  1983-08-01  2000-06-26        8        8        6   \n",
       "2  2005-01-02  1955-02-22  1947-03-21  1975-12-18       -8        8       29   \n",
       "4  2006-01-02  1975-10-30  1978-10-13  1998-11-14        3        3        7   \n",
       "5  2006-01-02  1973-03-28  1976-06-14  1995-01-20        3        3       11   \n",
       "6  2007-01-02  1970-12-13  1971-04-11  1991-08-16        0        0       15   \n",
       "\n",
       "   age_man  age_wom  age_min  age_max  pct_up  pct_dn  \n",
       "0       24       17       17       24      47      33  \n",
       "2       21       29       21       29      38      28  \n",
       "4       23       20       20       23      15      13  \n",
       "5       22       19       19       22      16      14  \n",
       "6       21       20       20       21       0       0  "
      ]
     },
     "execution_count": 129,
     "metadata": {},
     "output_type": "execute_result"
    }
   ],
   "source": [
    "df.head()"
   ]
  },
  {
   "cell_type": "code",
   "execution_count": 130,
   "metadata": {},
   "outputs": [
    {
     "ename": "SyntaxError",
     "evalue": "unmatched ']' (<ipython-input-130-de603c91038f>, line 1)",
     "output_type": "error",
     "traceback": [
      "\u001b[0;36m  File \u001b[0;32m\"<ipython-input-130-de603c91038f>\"\u001b[0;36m, line \u001b[0;32m1\u001b[0m\n\u001b[0;31m    ]\u001b[0m\n\u001b[0m    ^\u001b[0m\n\u001b[0;31mSyntaxError\u001b[0m\u001b[0;31m:\u001b[0m unmatched ']'\n"
     ]
    }
   ],
   "source": [
    "\n",
    "]"
   ]
  }
 ],
 "metadata": {
  "kernelspec": {
   "display_name": "Python 3",
   "language": "python",
   "name": "python3"
  },
  "language_info": {
   "codemirror_mode": {
    "name": "ipython",
    "version": 3
   },
   "file_extension": ".py",
   "mimetype": "text/x-python",
   "name": "python",
   "nbconvert_exporter": "python",
   "pygments_lexer": "ipython3",
   "version": "3.8.5"
  }
 },
 "nbformat": 4,
 "nbformat_minor": 4
}
