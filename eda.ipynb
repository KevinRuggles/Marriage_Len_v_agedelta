{
 "cells": [
  {
   "cell_type": "markdown",
   "metadata": {},
   "source": [
    "# Columns\n",
    "'Divorce_date',<br>\n",
    "'DOB_partner_man',<br>\n",
    "'DOB_partner_woman',<br>\n",
    "'Date_of_marriage'\n"
   ]
  },
  {
   "cell_type": "code",
   "execution_count": 42,
   "metadata": {
    "scrolled": true
   },
   "outputs": [],
   "source": [
    "import pandas as pd\n",
    "import numpy as np\n",
    "from datetime import datetime as dt\n",
    "from datetime import date as d\n",
    "from dateutil.relativedelta import relativedelta as rd\n",
    "import seaborn as sn\n",
    "import matplotlib.pyplot as plt"
   ]
  },
  {
   "cell_type": "code",
   "execution_count": 43,
   "metadata": {
    "scrolled": true
   },
   "outputs": [
    {
     "name": "stdout",
     "output_type": "stream",
     "text": [
      "D 2021-07-13 <class 'datetime.date'>\n",
      "2021-07-13 00:00:00\n"
     ]
    }
   ],
   "source": [
    "D=d(2021,7,13)\n",
    "print('D',D,type(D))\n",
    "\n",
    "print(pd.to_datetime(D))"
   ]
  },
  {
   "cell_type": "markdown",
   "metadata": {},
   "source": [
    "# READ the data"
   ]
  },
  {
   "cell_type": "code",
   "execution_count": 44,
   "metadata": {
    "scrolled": false
   },
   "outputs": [
    {
     "data": {
      "text/html": [
       "<div>\n",
       "<style scoped>\n",
       "    .dataframe tbody tr th:only-of-type {\n",
       "        vertical-align: middle;\n",
       "    }\n",
       "\n",
       "    .dataframe tbody tr th {\n",
       "        vertical-align: top;\n",
       "    }\n",
       "\n",
       "    .dataframe thead th {\n",
       "        text-align: right;\n",
       "    }\n",
       "</style>\n",
       "<table border=\"1\" class=\"dataframe\">\n",
       "  <thead>\n",
       "    <tr style=\"text-align: right;\">\n",
       "      <th></th>\n",
       "      <th>dod</th>\n",
       "      <th>man</th>\n",
       "      <th>wom</th>\n",
       "      <th>dom</th>\n",
       "    </tr>\n",
       "  </thead>\n",
       "  <tbody>\n",
       "    <tr>\n",
       "      <th>0</th>\n",
       "      <td>2006-09-06</td>\n",
       "      <td>1975-12-18</td>\n",
       "      <td>1983-08-01</td>\n",
       "      <td>2000-06-26</td>\n",
       "    </tr>\n",
       "    <tr>\n",
       "      <th>2</th>\n",
       "      <td>2005-01-02</td>\n",
       "      <td>2055-02-22</td>\n",
       "      <td>2047-03-21</td>\n",
       "      <td>1975-12-18</td>\n",
       "    </tr>\n",
       "    <tr>\n",
       "      <th>4</th>\n",
       "      <td>2006-01-02</td>\n",
       "      <td>1975-10-30</td>\n",
       "      <td>1978-10-13</td>\n",
       "      <td>1998-11-14</td>\n",
       "    </tr>\n",
       "  </tbody>\n",
       "</table>\n",
       "</div>"
      ],
      "text/plain": [
       "         dod        man        wom        dom\n",
       "0 2006-09-06 1975-12-18 1983-08-01 2000-06-26\n",
       "2 2005-01-02 2055-02-22 2047-03-21 1975-12-18\n",
       "4 2006-01-02 1975-10-30 1978-10-13 1998-11-14"
      ]
     },
     "execution_count": 44,
     "metadata": {},
     "output_type": "execute_result"
    }
   ],
   "source": [
    "\n",
    "\n",
    "df = pd.read_csv('divorces_2000-2015_translated.csv'\n",
    "                    ,header=0\n",
    "                    ,usecols=[0,3,16,29]              # usecols with numbers \n",
    "                    ,names=['dod','man','wom','dom']  # and names will re-names columns\n",
    "                    ,parse_dates=[0,1,2,3]  # parse_dates is list of col to make dates.\n",
    "                 )\n",
    "# drop any rows with NaN\n",
    "df = df.dropna()\n",
    "df.head(3)\n",
    "# notice row 2 is wrong century"
   ]
  },
  {
   "cell_type": "code",
   "execution_count": 45,
   "metadata": {
    "scrolled": true
   },
   "outputs": [
    {
     "data": {
      "text/html": [
       "<div>\n",
       "<style scoped>\n",
       "    .dataframe tbody tr th:only-of-type {\n",
       "        vertical-align: middle;\n",
       "    }\n",
       "\n",
       "    .dataframe tbody tr th {\n",
       "        vertical-align: top;\n",
       "    }\n",
       "\n",
       "    .dataframe thead th {\n",
       "        text-align: right;\n",
       "    }\n",
       "</style>\n",
       "<table border=\"1\" class=\"dataframe\">\n",
       "  <thead>\n",
       "    <tr style=\"text-align: right;\">\n",
       "      <th></th>\n",
       "      <th>dod</th>\n",
       "      <th>man</th>\n",
       "      <th>wom</th>\n",
       "      <th>dom</th>\n",
       "      <th>man_yr</th>\n",
       "      <th>man_mo</th>\n",
       "      <th>man_da</th>\n",
       "      <th>wom_yr</th>\n",
       "      <th>wom_mo</th>\n",
       "      <th>wom_da</th>\n",
       "      <th>mar_yr</th>\n",
       "      <th>mar_mo</th>\n",
       "      <th>mar_da</th>\n",
       "      <th>div_yr</th>\n",
       "      <th>div_mo</th>\n",
       "      <th>div_da</th>\n",
       "    </tr>\n",
       "  </thead>\n",
       "  <tbody>\n",
       "    <tr>\n",
       "      <th>0</th>\n",
       "      <td>2006-09-06</td>\n",
       "      <td>1975-12-18</td>\n",
       "      <td>1983-08-01</td>\n",
       "      <td>2000-06-26</td>\n",
       "      <td>1975</td>\n",
       "      <td>12</td>\n",
       "      <td>18</td>\n",
       "      <td>1983</td>\n",
       "      <td>8</td>\n",
       "      <td>1</td>\n",
       "      <td>2000</td>\n",
       "      <td>6</td>\n",
       "      <td>26</td>\n",
       "      <td>2006</td>\n",
       "      <td>9</td>\n",
       "      <td>6</td>\n",
       "    </tr>\n",
       "    <tr>\n",
       "      <th>2</th>\n",
       "      <td>2005-01-02</td>\n",
       "      <td>2055-02-22</td>\n",
       "      <td>2047-03-21</td>\n",
       "      <td>1975-12-18</td>\n",
       "      <td>2055</td>\n",
       "      <td>2</td>\n",
       "      <td>22</td>\n",
       "      <td>2047</td>\n",
       "      <td>3</td>\n",
       "      <td>21</td>\n",
       "      <td>1975</td>\n",
       "      <td>12</td>\n",
       "      <td>18</td>\n",
       "      <td>2005</td>\n",
       "      <td>1</td>\n",
       "      <td>2</td>\n",
       "    </tr>\n",
       "    <tr>\n",
       "      <th>4</th>\n",
       "      <td>2006-01-02</td>\n",
       "      <td>1975-10-30</td>\n",
       "      <td>1978-10-13</td>\n",
       "      <td>1998-11-14</td>\n",
       "      <td>1975</td>\n",
       "      <td>10</td>\n",
       "      <td>30</td>\n",
       "      <td>1978</td>\n",
       "      <td>10</td>\n",
       "      <td>13</td>\n",
       "      <td>1998</td>\n",
       "      <td>11</td>\n",
       "      <td>14</td>\n",
       "      <td>2006</td>\n",
       "      <td>1</td>\n",
       "      <td>2</td>\n",
       "    </tr>\n",
       "  </tbody>\n",
       "</table>\n",
       "</div>"
      ],
      "text/plain": [
       "         dod        man        wom        dom  man_yr  man_mo  man_da  wom_yr  \\\n",
       "0 2006-09-06 1975-12-18 1983-08-01 2000-06-26    1975      12      18    1983   \n",
       "2 2005-01-02 2055-02-22 2047-03-21 1975-12-18    2055       2      22    2047   \n",
       "4 2006-01-02 1975-10-30 1978-10-13 1998-11-14    1975      10      30    1978   \n",
       "\n",
       "   wom_mo  wom_da  mar_yr  mar_mo  mar_da  div_yr  div_mo  div_da  \n",
       "0       8       1    2000       6      26    2006       9       6  \n",
       "2       3      21    1975      12      18    2005       1       2  \n",
       "4      10      13    1998      11      14    2006       1       2  "
      ]
     },
     "execution_count": 45,
     "metadata": {},
     "output_type": "execute_result"
    }
   ],
   "source": [
    "# make temp columns to calc correct century\n",
    "df['man_yr']  =pd.to_datetime(df['man']).dt.year\n",
    "df['man_mo'] =pd.to_datetime(df['man']).dt.month\n",
    "df['man_da']   =pd.to_datetime(df['man']).dt.day\n",
    "\n",
    "df['wom_yr']  =pd.to_datetime(df['wom']).dt.year\n",
    "df['wom_mo'] =pd.to_datetime(df['wom']).dt.month\n",
    "df['wom_da']   =pd.to_datetime(df['wom']).dt.day\n",
    "\n",
    "df['mar_yr']  =pd.to_datetime(df['dom']).dt.year\n",
    "df['mar_mo'] =pd.to_datetime(df['dom']).dt.month\n",
    "df['mar_da']   =pd.to_datetime(df['dom']).dt.day\n",
    "\n",
    "df['div_yr']  =pd.to_datetime(df['dod']).dt.year\n",
    "df['div_mo'] =pd.to_datetime(df['dod']).dt.month\n",
    "df['div_da']   =pd.to_datetime(df['dod']).dt.day\n",
    "\n",
    "\n",
    "df.head(3)"
   ]
  },
  {
   "cell_type": "code",
   "execution_count": 46,
   "metadata": {
    "scrolled": true
   },
   "outputs": [
    {
     "data": {
      "text/html": [
       "<div>\n",
       "<style scoped>\n",
       "    .dataframe tbody tr th:only-of-type {\n",
       "        vertical-align: middle;\n",
       "    }\n",
       "\n",
       "    .dataframe tbody tr th {\n",
       "        vertical-align: top;\n",
       "    }\n",
       "\n",
       "    .dataframe thead th {\n",
       "        text-align: right;\n",
       "    }\n",
       "</style>\n",
       "<table border=\"1\" class=\"dataframe\">\n",
       "  <thead>\n",
       "    <tr style=\"text-align: right;\">\n",
       "      <th></th>\n",
       "      <th>dod</th>\n",
       "      <th>man</th>\n",
       "      <th>wom</th>\n",
       "      <th>dom</th>\n",
       "      <th>man_yr</th>\n",
       "      <th>man_mo</th>\n",
       "      <th>man_da</th>\n",
       "      <th>wom_yr</th>\n",
       "      <th>wom_mo</th>\n",
       "      <th>wom_da</th>\n",
       "      <th>mar_yr</th>\n",
       "      <th>mar_mo</th>\n",
       "      <th>mar_da</th>\n",
       "      <th>div_yr</th>\n",
       "      <th>div_mo</th>\n",
       "      <th>div_da</th>\n",
       "    </tr>\n",
       "  </thead>\n",
       "  <tbody>\n",
       "    <tr>\n",
       "      <th>0</th>\n",
       "      <td>2006-09-06</td>\n",
       "      <td>1975-12-18</td>\n",
       "      <td>1983-08-01</td>\n",
       "      <td>2000-06-26</td>\n",
       "      <td>1975</td>\n",
       "      <td>12</td>\n",
       "      <td>18</td>\n",
       "      <td>1983</td>\n",
       "      <td>8</td>\n",
       "      <td>1</td>\n",
       "      <td>2000</td>\n",
       "      <td>6</td>\n",
       "      <td>26</td>\n",
       "      <td>2006</td>\n",
       "      <td>9</td>\n",
       "      <td>6</td>\n",
       "    </tr>\n",
       "    <tr>\n",
       "      <th>2</th>\n",
       "      <td>2005-01-02</td>\n",
       "      <td>2055-02-22</td>\n",
       "      <td>2047-03-21</td>\n",
       "      <td>1975-12-18</td>\n",
       "      <td>1955</td>\n",
       "      <td>2</td>\n",
       "      <td>22</td>\n",
       "      <td>1947</td>\n",
       "      <td>3</td>\n",
       "      <td>21</td>\n",
       "      <td>1975</td>\n",
       "      <td>12</td>\n",
       "      <td>18</td>\n",
       "      <td>2005</td>\n",
       "      <td>1</td>\n",
       "      <td>2</td>\n",
       "    </tr>\n",
       "    <tr>\n",
       "      <th>4</th>\n",
       "      <td>2006-01-02</td>\n",
       "      <td>1975-10-30</td>\n",
       "      <td>1978-10-13</td>\n",
       "      <td>1998-11-14</td>\n",
       "      <td>1975</td>\n",
       "      <td>10</td>\n",
       "      <td>30</td>\n",
       "      <td>1978</td>\n",
       "      <td>10</td>\n",
       "      <td>13</td>\n",
       "      <td>1998</td>\n",
       "      <td>11</td>\n",
       "      <td>14</td>\n",
       "      <td>2006</td>\n",
       "      <td>1</td>\n",
       "      <td>2</td>\n",
       "    </tr>\n",
       "  </tbody>\n",
       "</table>\n",
       "</div>"
      ],
      "text/plain": [
       "         dod        man        wom        dom  man_yr  man_mo  man_da  wom_yr  \\\n",
       "0 2006-09-06 1975-12-18 1983-08-01 2000-06-26    1975      12      18    1983   \n",
       "2 2005-01-02 2055-02-22 2047-03-21 1975-12-18    1955       2      22    1947   \n",
       "4 2006-01-02 1975-10-30 1978-10-13 1998-11-14    1975      10      30    1978   \n",
       "\n",
       "   wom_mo  wom_da  mar_yr  mar_mo  mar_da  div_yr  div_mo  div_da  \n",
       "0       8       1    2000       6      26    2006       9       6  \n",
       "2       3      21    1975      12      18    2005       1       2  \n",
       "4      10      13    1998      11      14    2006       1       2  "
      ]
     },
     "execution_count": 46,
     "metadata": {},
     "output_type": "execute_result"
    }
   ],
   "source": [
    "# calc century based on this year (2021) : hardcoded \n",
    "df['man_yr']= df['man_yr'].apply(lambda x: x-100 if x>2021 else x ) \n",
    "df['wom_yr']= df['wom_yr'].apply(lambda x: x-100 if x>2021 else x ) \n",
    "df['mar_yr']= df['mar_yr'].apply(lambda x: x-100 if x>2021 else x ) \n",
    "df['div_yr']= df['div_yr'].apply(lambda x: x-100 if x>2021 else x ) \n",
    "df.head(3)"
   ]
  },
  {
   "cell_type": "code",
   "execution_count": 47,
   "metadata": {
    "scrolled": true
   },
   "outputs": [
    {
     "name": "stdout",
     "output_type": "stream",
     "text": [
      "DF final\n"
     ]
    },
    {
     "data": {
      "text/html": [
       "<div>\n",
       "<style scoped>\n",
       "    .dataframe tbody tr th:only-of-type {\n",
       "        vertical-align: middle;\n",
       "    }\n",
       "\n",
       "    .dataframe tbody tr th {\n",
       "        vertical-align: top;\n",
       "    }\n",
       "\n",
       "    .dataframe thead th {\n",
       "        text-align: right;\n",
       "    }\n",
       "</style>\n",
       "<table border=\"1\" class=\"dataframe\">\n",
       "  <thead>\n",
       "    <tr style=\"text-align: right;\">\n",
       "      <th></th>\n",
       "      <th>dod</th>\n",
       "      <th>man</th>\n",
       "      <th>wom</th>\n",
       "      <th>dom</th>\n",
       "    </tr>\n",
       "  </thead>\n",
       "  <tbody>\n",
       "    <tr>\n",
       "      <th>0</th>\n",
       "      <td>2006-09-06</td>\n",
       "      <td>1975-12-18</td>\n",
       "      <td>1983-08-01</td>\n",
       "      <td>2000-06-26</td>\n",
       "    </tr>\n",
       "    <tr>\n",
       "      <th>2</th>\n",
       "      <td>2005-01-02</td>\n",
       "      <td>1955-02-22</td>\n",
       "      <td>1947-03-21</td>\n",
       "      <td>1975-12-18</td>\n",
       "    </tr>\n",
       "    <tr>\n",
       "      <th>4</th>\n",
       "      <td>2006-01-02</td>\n",
       "      <td>1975-10-30</td>\n",
       "      <td>1978-10-13</td>\n",
       "      <td>1998-11-14</td>\n",
       "    </tr>\n",
       "  </tbody>\n",
       "</table>\n",
       "</div>"
      ],
      "text/plain": [
       "          dod         man         wom         dom\n",
       "0  2006-09-06  1975-12-18  1983-08-01  2000-06-26\n",
       "2  2005-01-02  1955-02-22  1947-03-21  1975-12-18\n",
       "4  2006-01-02  1975-10-30  1978-10-13  1998-11-14"
      ]
     },
     "execution_count": 47,
     "metadata": {},
     "output_type": "execute_result"
    }
   ],
   "source": [
    "# re-assign birthdates ,mar,div based on corrected centuries:\n",
    "df['man']=df.apply( lambda x: d( x.man_yr,x.man_mo,x.man_da ) ,axis=1)\n",
    "df['wom']=df.apply( lambda x: d( x.wom_yr,x.wom_mo,x.wom_da ) ,axis=1)\n",
    "df['dom']=df.apply( lambda x: d( x.mar_yr,x.mar_mo,x.mar_da ) ,axis=1)\n",
    "df['dod']=df.apply( lambda x: d( x.div_yr,x.div_mo,x.div_da ) ,axis=1)\n",
    "\n",
    "# drop temp columns\n",
    "df.drop([ 'man_yr','man_mo','man_da'\n",
    "         ,'wom_yr','wom_mo','wom_da'\n",
    "         ,'mar_yr','mar_mo','mar_da'\n",
    "         ,'div_yr','div_mo','div_da'\n",
    "        ]\n",
    "        , axis = 1\n",
    "        , inplace = True)\n",
    "print('DF final')\n",
    "df.head(3)"
   ]
  },
  {
   "cell_type": "markdown",
   "metadata": {},
   "source": [
    "# DATA CLEANED"
   ]
  },
  {
   "cell_type": "code",
   "execution_count": 48,
   "metadata": {
    "scrolled": true
   },
   "outputs": [
    {
     "data": {
      "text/html": [
       "<div>\n",
       "<style scoped>\n",
       "    .dataframe tbody tr th:only-of-type {\n",
       "        vertical-align: middle;\n",
       "    }\n",
       "\n",
       "    .dataframe tbody tr th {\n",
       "        vertical-align: top;\n",
       "    }\n",
       "\n",
       "    .dataframe thead th {\n",
       "        text-align: right;\n",
       "    }\n",
       "</style>\n",
       "<table border=\"1\" class=\"dataframe\">\n",
       "  <thead>\n",
       "    <tr style=\"text-align: right;\">\n",
       "      <th></th>\n",
       "      <th>dod</th>\n",
       "      <th>man</th>\n",
       "      <th>wom</th>\n",
       "      <th>dom</th>\n",
       "    </tr>\n",
       "  </thead>\n",
       "  <tbody>\n",
       "    <tr>\n",
       "      <th>0</th>\n",
       "      <td>2006-09-06</td>\n",
       "      <td>1975-12-18</td>\n",
       "      <td>1983-08-01</td>\n",
       "      <td>2000-06-26</td>\n",
       "    </tr>\n",
       "    <tr>\n",
       "      <th>2</th>\n",
       "      <td>2005-01-02</td>\n",
       "      <td>1955-02-22</td>\n",
       "      <td>1947-03-21</td>\n",
       "      <td>1975-12-18</td>\n",
       "    </tr>\n",
       "    <tr>\n",
       "      <th>4</th>\n",
       "      <td>2006-01-02</td>\n",
       "      <td>1975-10-30</td>\n",
       "      <td>1978-10-13</td>\n",
       "      <td>1998-11-14</td>\n",
       "    </tr>\n",
       "  </tbody>\n",
       "</table>\n",
       "</div>"
      ],
      "text/plain": [
       "          dod         man         wom         dom\n",
       "0  2006-09-06  1975-12-18  1983-08-01  2000-06-26\n",
       "2  2005-01-02  1955-02-22  1947-03-21  1975-12-18\n",
       "4  2006-01-02  1975-10-30  1978-10-13  1998-11-14"
      ]
     },
     "execution_count": 48,
     "metadata": {},
     "output_type": "execute_result"
    }
   ],
   "source": [
    "# df_dob=df.copy('deep')\n",
    "df.head(3)"
   ]
  },
  {
   "cell_type": "code",
   "execution_count": 49,
   "metadata": {
    "scrolled": true
   },
   "outputs": [
    {
     "data": {
      "text/html": [
       "<div>\n",
       "<style scoped>\n",
       "    .dataframe tbody tr th:only-of-type {\n",
       "        vertical-align: middle;\n",
       "    }\n",
       "\n",
       "    .dataframe tbody tr th {\n",
       "        vertical-align: top;\n",
       "    }\n",
       "\n",
       "    .dataframe thead th {\n",
       "        text-align: right;\n",
       "    }\n",
       "</style>\n",
       "<table border=\"1\" class=\"dataframe\">\n",
       "  <thead>\n",
       "    <tr style=\"text-align: right;\">\n",
       "      <th></th>\n",
       "      <th>dod</th>\n",
       "      <th>man</th>\n",
       "      <th>wom</th>\n",
       "      <th>dom</th>\n",
       "      <th>age_dif</th>\n",
       "      <th>abs_dif</th>\n",
       "      <th>mar_len</th>\n",
       "      <th>age_man</th>\n",
       "      <th>age_wom</th>\n",
       "      <th>age_min</th>\n",
       "      <th>age_max</th>\n",
       "      <th>pct_up</th>\n",
       "      <th>pct_dn</th>\n",
       "    </tr>\n",
       "  </thead>\n",
       "  <tbody>\n",
       "    <tr>\n",
       "      <th>0</th>\n",
       "      <td>2006-09-06</td>\n",
       "      <td>1975-12-18</td>\n",
       "      <td>1983-08-01</td>\n",
       "      <td>2000-06-26</td>\n",
       "      <td>8</td>\n",
       "      <td>8</td>\n",
       "      <td>6</td>\n",
       "      <td>24</td>\n",
       "      <td>17</td>\n",
       "      <td>17</td>\n",
       "      <td>24</td>\n",
       "      <td>47</td>\n",
       "      <td>33</td>\n",
       "    </tr>\n",
       "    <tr>\n",
       "      <th>2</th>\n",
       "      <td>2005-01-02</td>\n",
       "      <td>1955-02-22</td>\n",
       "      <td>1947-03-21</td>\n",
       "      <td>1975-12-18</td>\n",
       "      <td>-8</td>\n",
       "      <td>8</td>\n",
       "      <td>29</td>\n",
       "      <td>21</td>\n",
       "      <td>29</td>\n",
       "      <td>21</td>\n",
       "      <td>29</td>\n",
       "      <td>38</td>\n",
       "      <td>28</td>\n",
       "    </tr>\n",
       "    <tr>\n",
       "      <th>4</th>\n",
       "      <td>2006-01-02</td>\n",
       "      <td>1975-10-30</td>\n",
       "      <td>1978-10-13</td>\n",
       "      <td>1998-11-14</td>\n",
       "      <td>3</td>\n",
       "      <td>3</td>\n",
       "      <td>7</td>\n",
       "      <td>23</td>\n",
       "      <td>20</td>\n",
       "      <td>20</td>\n",
       "      <td>23</td>\n",
       "      <td>15</td>\n",
       "      <td>13</td>\n",
       "    </tr>\n",
       "  </tbody>\n",
       "</table>\n",
       "</div>"
      ],
      "text/plain": [
       "          dod         man         wom         dom  age_dif  abs_dif  mar_len  \\\n",
       "0  2006-09-06  1975-12-18  1983-08-01  2000-06-26        8        8        6   \n",
       "2  2005-01-02  1955-02-22  1947-03-21  1975-12-18       -8        8       29   \n",
       "4  2006-01-02  1975-10-30  1978-10-13  1998-11-14        3        3        7   \n",
       "\n",
       "   age_man  age_wom  age_min  age_max  pct_up  pct_dn  \n",
       "0       24       17       17       24      47      33  \n",
       "2       21       29       21       29      38      28  \n",
       "4       23       20       20       23      15      13  "
      ]
     },
     "execution_count": 49,
     "metadata": {},
     "output_type": "execute_result"
    }
   ],
   "source": [
    "# calc age_dif, age_man age_woman\n",
    "df['age_dif'] = df.apply( lambda x: \n",
    "                            round(  (  rd( x['wom'], x['man']).years*12 \n",
    "                                     + rd( x['wom'], x['man']).months  \n",
    "                                     )/12\n",
    "                                  )\n",
    "                         ,axis = 1)\n",
    "df['abs_dif'] = df.apply( lambda x: \n",
    "                            abs( x['age_dif'] )\n",
    "                         ,axis = 1)\n",
    "\n",
    "df['mar_len'] = df.apply( lambda x: \n",
    "                            round(  (  rd( x['dod'], x['dom']).years*12 \n",
    "                                     + rd( x['dod'], x['dom']).months  \n",
    "                                     )/12\n",
    "                                  )\n",
    "                         ,axis = 1)\n",
    "\n",
    "\n",
    "df['age_man'] = df.apply( lambda x: \n",
    "                            round(  (  rd( x['dom'], x['man']).years*12 \n",
    "                                     + rd( x['dom'], x['man']).months  \n",
    "                                     )/12\n",
    "                                  )\n",
    "                         ,axis = 1)\n",
    "\n",
    "df['age_wom'] = df.apply( lambda x: \n",
    "                            round(  (  rd( x['dom'], x['wom']).years*12 \n",
    "                                     + rd( x['dom'], x['wom']).months  \n",
    "                                     )/12\n",
    "                                  )\n",
    "                         ,axis = 1)\n",
    "              \n",
    "\n",
    "df['age_min'] = df.apply( lambda x: min( x['age_man'],x['age_wom'] )\n",
    "                        ,axis = 1)\n",
    "\n",
    "df['age_max'] = df.apply( lambda x: \n",
    "                            max( x['age_man'],x['age_wom'] )\n",
    "                         ,axis = 1)\n",
    "\n",
    "df['pct_up'] = df.apply( lambda x: \n",
    "                          round( x['abs_dif']/x['age_min'] *100)\n",
    "                         ,axis = 1)\n",
    "\n",
    "df['pct_dn'] = df.apply( lambda x: \n",
    "                          round( x['abs_dif']/x['age_max'] *100)\n",
    "                         ,axis = 1)\n",
    "\n",
    "df.head(3)"
   ]
  },
  {
   "cell_type": "code",
   "execution_count": 50,
   "metadata": {
    "scrolled": true
   },
   "outputs": [
    {
     "data": {
      "text/html": [
       "<div>\n",
       "<style scoped>\n",
       "    .dataframe tbody tr th:only-of-type {\n",
       "        vertical-align: middle;\n",
       "    }\n",
       "\n",
       "    .dataframe tbody tr th {\n",
       "        vertical-align: top;\n",
       "    }\n",
       "\n",
       "    .dataframe thead th {\n",
       "        text-align: right;\n",
       "    }\n",
       "</style>\n",
       "<table border=\"1\" class=\"dataframe\">\n",
       "  <thead>\n",
       "    <tr style=\"text-align: right;\">\n",
       "      <th></th>\n",
       "      <th>dod</th>\n",
       "      <th>man</th>\n",
       "      <th>wom</th>\n",
       "      <th>dom</th>\n",
       "      <th>age_dif</th>\n",
       "      <th>abs_dif</th>\n",
       "      <th>mar_len</th>\n",
       "      <th>age_man</th>\n",
       "      <th>age_wom</th>\n",
       "      <th>age_min</th>\n",
       "      <th>age_max</th>\n",
       "      <th>pct_up</th>\n",
       "      <th>pct_dn</th>\n",
       "    </tr>\n",
       "  </thead>\n",
       "  <tbody>\n",
       "    <tr>\n",
       "      <th>462</th>\n",
       "      <td>2001-04-01</td>\n",
       "      <td>1943-03-06</td>\n",
       "      <td>1954-05-01</td>\n",
       "      <td>1931-08-31</td>\n",
       "      <td>11</td>\n",
       "      <td>11</td>\n",
       "      <td>70</td>\n",
       "      <td>-12</td>\n",
       "      <td>-23</td>\n",
       "      <td>-23</td>\n",
       "      <td>-12</td>\n",
       "      <td>-48</td>\n",
       "      <td>-92</td>\n",
       "    </tr>\n",
       "    <tr>\n",
       "      <th>1799</th>\n",
       "      <td>2004-12-02</td>\n",
       "      <td>1944-12-06</td>\n",
       "      <td>1997-02-01</td>\n",
       "      <td>1967-10-16</td>\n",
       "      <td>52</td>\n",
       "      <td>52</td>\n",
       "      <td>37</td>\n",
       "      <td>23</td>\n",
       "      <td>-29</td>\n",
       "      <td>-29</td>\n",
       "      <td>23</td>\n",
       "      <td>-179</td>\n",
       "      <td>226</td>\n",
       "    </tr>\n",
       "  </tbody>\n",
       "</table>\n",
       "</div>"
      ],
      "text/plain": [
       "             dod         man         wom         dom  age_dif  abs_dif  \\\n",
       "462   2001-04-01  1943-03-06  1954-05-01  1931-08-31       11       11   \n",
       "1799  2004-12-02  1944-12-06  1997-02-01  1967-10-16       52       52   \n",
       "\n",
       "      mar_len  age_man  age_wom  age_min  age_max  pct_up  pct_dn  \n",
       "462        70      -12      -23      -23      -12     -48     -92  \n",
       "1799       37       23      -29      -29       23    -179     226  "
      ]
     },
     "execution_count": 50,
     "metadata": {},
     "output_type": "execute_result"
    }
   ],
   "source": [
    "df[df['age_wom']<0]"
   ]
  },
  {
   "cell_type": "code",
   "execution_count": 51,
   "metadata": {
    "scrolled": true
   },
   "outputs": [],
   "source": [
    "df.drop( [462,1799]\n",
    "           , axis = 0, inplace = True)"
   ]
  },
  {
   "cell_type": "code",
   "execution_count": 52,
   "metadata": {
    "scrolled": true
   },
   "outputs": [],
   "source": [
    "# df[ df['age_man']<15]"
   ]
  },
  {
   "cell_type": "code",
   "execution_count": 53,
   "metadata": {
    "scrolled": true
   },
   "outputs": [],
   "source": [
    "# df[ df['age_wom']<15 ]"
   ]
  },
  {
   "cell_type": "markdown",
   "metadata": {},
   "source": [
    "# Charts"
   ]
  },
  {
   "cell_type": "code",
   "execution_count": 139,
   "metadata": {
    "scrolled": false
   },
   "outputs": [
    {
     "data": {
      "text/plain": [
       "Text(41.875, 0.5, 'count')"
      ]
     },
     "execution_count": 139,
     "metadata": {},
     "output_type": "execute_result"
    },
    {
     "data": {
      "image/png": "[encoded data removed]",
      "text/plain": [
       "<Figure size 576x288 with 1 Axes>"
      ]
     },
     "metadata": {
      "needs_background": "light"
     },
     "output_type": "display_data"
    }
   ],
   "source": [
    "fig , ax = plt.subplots(figsize=(8,4))\n",
    "ax.set_title('Age Difference')\n",
    "ax.hist(df['age_dif'],bins = 100);\n",
    "# plt.show()\n",
    "fig.tight_layout();\n",
    "ax.set_xlabel('years')\n",
    "ax.set_ylabel('count')"
   ]
  },
  {
   "cell_type": "code",
   "execution_count": 143,
   "metadata": {
    "scrolled": true
   },
   "outputs": [
    {
     "data": {
      "text/plain": [
       "Text(0, 0.5, 'count')"
      ]
     },
     "execution_count": 143,
     "metadata": {},
     "output_type": "execute_result"
    },
    {
     "data": {
      "image/png": "[encoded data removed]",
      "text/plain": [
       "<Figure size 576x288 with 1 Axes>"
      ]
     },
     "metadata": {
      "needs_background": "light"
     },
     "output_type": "display_data"
    }
   ],
   "source": [
    "fig,ax = plt.subplots(figsize=(8,4))\n",
    "ax.hist(df['abs_dif'],bins =50)\n",
    "ax.set_title('Absolute Age Difference')\n",
    "ax.set_xlabel('years')\n",
    "ax.set_ylabel('count')"
   ]
  },
  {
   "cell_type": "code",
   "execution_count": 150,
   "metadata": {
    "scrolled": true
   },
   "outputs": [
    {
     "data": {
      "text/plain": [
       "(0.0, 15.0)"
      ]
     },
     "execution_count": 150,
     "metadata": {},
     "output_type": "execute_result"
    },
    {
     "data": {
      "image/png": "[encoded data removed]",
      "text/plain": [
       "<Figure size 576x288 with 1 Axes>"
      ]
     },
     "metadata": {
      "needs_background": "light"
     },
     "output_type": "display_data"
    }
   ],
   "source": [
    "fig,ax = plt.subplots(figsize=(8,4))\n",
    "ax.hist(df['abs_dif'],bins =50)\n",
    "ax.set_title('Absolute Age Difference 15+ years')\n",
    "ax.set_xlabel('years')\n",
    "ax.set_ylabel('count')\n",
    "ax.set_xlim(left=15)\n",
    "ax.set_ylim(top=15)"
   ]
  },
  {
   "cell_type": "code",
   "execution_count": 151,
   "metadata": {
    "scrolled": true
   },
   "outputs": [
    {
     "data": {
      "text/plain": [
       "Text(0, 0.5, 'count')"
      ]
     },
     "execution_count": 151,
     "metadata": {},
     "output_type": "execute_result"
    },
    {
     "data": {
      "image/png": "[encoded data removed]",
      "text/plain": [
       "<Figure size 576x288 with 1 Axes>"
      ]
     },
     "metadata": {
      "needs_background": "light"
     },
     "output_type": "display_data"
    }
   ],
   "source": [
    "fig , ax = plt.subplots(figsize=(8,4))\n",
    "ax.hist(df['mar_len'],bins =100);\n",
    "ax.set_title('Marriage length and count')\n",
    "ax.set_xlabel('years')\n",
    "ax.set_ylabel('count')"
   ]
  },
  {
   "cell_type": "code",
   "execution_count": 155,
   "metadata": {
    "collapsed": true,
    "scrolled": true
   },
   "outputs": [
    {
     "data": {
      "image/png": "[encoded data removed]",
      "text/plain": [
       "<Figure size 864x864 with 1 Axes>"
      ]
     },
     "metadata": {
      "needs_background": "light"
     },
     "output_type": "display_data"
    }
   ],
   "source": [
    "fig,ax = plt.subplots(figsize=(12,12))\n",
    "# snheat = sn.heatmap(df.corr(),annot=True)\n",
    "# plt.show(snheat)\n",
    "# df.corr()"
   ]
  },
  {
   "cell_type": "code",
   "execution_count": 58,
   "metadata": {
    "collapsed": true,
    "scrolled": true
   },
   "outputs": [
    {
     "data": {
      "text/html": [
       "<div>\n",
       "<style scoped>\n",
       "    .dataframe tbody tr th:only-of-type {\n",
       "        vertical-align: middle;\n",
       "    }\n",
       "\n",
       "    .dataframe tbody tr th {\n",
       "        vertical-align: top;\n",
       "    }\n",
       "\n",
       "    .dataframe thead th {\n",
       "        text-align: right;\n",
       "    }\n",
       "</style>\n",
       "<table border=\"1\" class=\"dataframe\">\n",
       "  <thead>\n",
       "    <tr style=\"text-align: right;\">\n",
       "      <th></th>\n",
       "      <th>abs_dif</th>\n",
       "      <th>mar_len</th>\n",
       "    </tr>\n",
       "  </thead>\n",
       "  <tbody>\n",
       "    <tr>\n",
       "      <th>0</th>\n",
       "      <td>8</td>\n",
       "      <td>6</td>\n",
       "    </tr>\n",
       "    <tr>\n",
       "      <th>2</th>\n",
       "      <td>8</td>\n",
       "      <td>29</td>\n",
       "    </tr>\n",
       "    <tr>\n",
       "      <th>4</th>\n",
       "      <td>3</td>\n",
       "      <td>7</td>\n",
       "    </tr>\n",
       "    <tr>\n",
       "      <th>5</th>\n",
       "      <td>3</td>\n",
       "      <td>11</td>\n",
       "    </tr>\n",
       "    <tr>\n",
       "      <th>6</th>\n",
       "      <td>0</td>\n",
       "      <td>15</td>\n",
       "    </tr>\n",
       "    <tr>\n",
       "      <th>...</th>\n",
       "      <td>...</td>\n",
       "      <td>...</td>\n",
       "    </tr>\n",
       "    <tr>\n",
       "      <th>4918</th>\n",
       "      <td>1</td>\n",
       "      <td>4</td>\n",
       "    </tr>\n",
       "    <tr>\n",
       "      <th>4919</th>\n",
       "      <td>1</td>\n",
       "      <td>1</td>\n",
       "    </tr>\n",
       "    <tr>\n",
       "      <th>4920</th>\n",
       "      <td>2</td>\n",
       "      <td>36</td>\n",
       "    </tr>\n",
       "    <tr>\n",
       "      <th>4921</th>\n",
       "      <td>6</td>\n",
       "      <td>34</td>\n",
       "    </tr>\n",
       "    <tr>\n",
       "      <th>4922</th>\n",
       "      <td>12</td>\n",
       "      <td>4</td>\n",
       "    </tr>\n",
       "  </tbody>\n",
       "</table>\n",
       "<p>4372 rows × 2 columns</p>\n",
       "</div>"
      ],
      "text/plain": [
       "      abs_dif  mar_len\n",
       "0           8        6\n",
       "2           8       29\n",
       "4           3        7\n",
       "5           3       11\n",
       "6           0       15\n",
       "...       ...      ...\n",
       "4918        1        4\n",
       "4919        1        1\n",
       "4920        2       36\n",
       "4921        6       34\n",
       "4922       12        4\n",
       "\n",
       "[4372 rows x 2 columns]"
      ]
     },
     "execution_count": 58,
     "metadata": {},
     "output_type": "execute_result"
    }
   ],
   "source": [
    "\n",
    "# ( df.loc[ : , ['abs_dif','mar_len'] ] )"
   ]
  },
  {
   "cell_type": "code",
   "execution_count": 59,
   "metadata": {
    "collapsed": true,
    "scrolled": true
   },
   "outputs": [
    {
     "data": {
      "text/html": [
       "<div>\n",
       "<style scoped>\n",
       "    .dataframe tbody tr th:only-of-type {\n",
       "        vertical-align: middle;\n",
       "    }\n",
       "\n",
       "    .dataframe tbody tr th {\n",
       "        vertical-align: top;\n",
       "    }\n",
       "\n",
       "    .dataframe thead th {\n",
       "        text-align: right;\n",
       "    }\n",
       "</style>\n",
       "<table border=\"1\" class=\"dataframe\">\n",
       "  <thead>\n",
       "    <tr style=\"text-align: right;\">\n",
       "      <th></th>\n",
       "      <th>abs_dif</th>\n",
       "      <th>mar_len</th>\n",
       "    </tr>\n",
       "  </thead>\n",
       "  <tbody>\n",
       "    <tr>\n",
       "      <th>0</th>\n",
       "      <td>8</td>\n",
       "      <td>6</td>\n",
       "    </tr>\n",
       "    <tr>\n",
       "      <th>2</th>\n",
       "      <td>8</td>\n",
       "      <td>29</td>\n",
       "    </tr>\n",
       "    <tr>\n",
       "      <th>4</th>\n",
       "      <td>3</td>\n",
       "      <td>7</td>\n",
       "    </tr>\n",
       "    <tr>\n",
       "      <th>5</th>\n",
       "      <td>3</td>\n",
       "      <td>11</td>\n",
       "    </tr>\n",
       "    <tr>\n",
       "      <th>6</th>\n",
       "      <td>0</td>\n",
       "      <td>15</td>\n",
       "    </tr>\n",
       "    <tr>\n",
       "      <th>...</th>\n",
       "      <td>...</td>\n",
       "      <td>...</td>\n",
       "    </tr>\n",
       "    <tr>\n",
       "      <th>4918</th>\n",
       "      <td>1</td>\n",
       "      <td>4</td>\n",
       "    </tr>\n",
       "    <tr>\n",
       "      <th>4919</th>\n",
       "      <td>1</td>\n",
       "      <td>1</td>\n",
       "    </tr>\n",
       "    <tr>\n",
       "      <th>4920</th>\n",
       "      <td>2</td>\n",
       "      <td>36</td>\n",
       "    </tr>\n",
       "    <tr>\n",
       "      <th>4921</th>\n",
       "      <td>6</td>\n",
       "      <td>34</td>\n",
       "    </tr>\n",
       "    <tr>\n",
       "      <th>4922</th>\n",
       "      <td>12</td>\n",
       "      <td>4</td>\n",
       "    </tr>\n",
       "  </tbody>\n",
       "</table>\n",
       "<p>4372 rows × 2 columns</p>\n",
       "</div>"
      ],
      "text/plain": [
       "      abs_dif  mar_len\n",
       "0           8        6\n",
       "2           8       29\n",
       "4           3        7\n",
       "5           3       11\n",
       "6           0       15\n",
       "...       ...      ...\n",
       "4918        1        4\n",
       "4919        1        1\n",
       "4920        2       36\n",
       "4921        6       34\n",
       "4922       12        4\n",
       "\n",
       "[4372 rows x 2 columns]"
      ]
     },
     "execution_count": 59,
     "metadata": {},
     "output_type": "execute_result"
    }
   ],
   "source": [
    "# df[ ['abs_dif','mar_len'] ]"
   ]
  },
  {
   "cell_type": "code",
   "execution_count": 60,
   "metadata": {
    "collapsed": true,
    "scrolled": true
   },
   "outputs": [
    {
     "data": {
      "text/html": [
       "<div>\n",
       "<style scoped>\n",
       "    .dataframe tbody tr th:only-of-type {\n",
       "        vertical-align: middle;\n",
       "    }\n",
       "\n",
       "    .dataframe tbody tr th {\n",
       "        vertical-align: top;\n",
       "    }\n",
       "\n",
       "    .dataframe thead th {\n",
       "        text-align: right;\n",
       "    }\n",
       "</style>\n",
       "<table border=\"1\" class=\"dataframe\">\n",
       "  <thead>\n",
       "    <tr style=\"text-align: right;\">\n",
       "      <th></th>\n",
       "      <th>dod</th>\n",
       "      <th>man</th>\n",
       "      <th>wom</th>\n",
       "      <th>dom</th>\n",
       "      <th>age_dif</th>\n",
       "      <th>abs_dif</th>\n",
       "      <th>mar_len</th>\n",
       "      <th>age_man</th>\n",
       "      <th>age_wom</th>\n",
       "      <th>age_min</th>\n",
       "      <th>age_max</th>\n",
       "      <th>pct_up</th>\n",
       "      <th>pct_dn</th>\n",
       "    </tr>\n",
       "  </thead>\n",
       "  <tbody>\n",
       "    <tr>\n",
       "      <th>0</th>\n",
       "      <td>2006-09-06</td>\n",
       "      <td>1975-12-18</td>\n",
       "      <td>1983-08-01</td>\n",
       "      <td>2000-06-26</td>\n",
       "      <td>8</td>\n",
       "      <td>8</td>\n",
       "      <td>6</td>\n",
       "      <td>24</td>\n",
       "      <td>17</td>\n",
       "      <td>17</td>\n",
       "      <td>24</td>\n",
       "      <td>47</td>\n",
       "      <td>33</td>\n",
       "    </tr>\n",
       "    <tr>\n",
       "      <th>2</th>\n",
       "      <td>2005-01-02</td>\n",
       "      <td>1955-02-22</td>\n",
       "      <td>1947-03-21</td>\n",
       "      <td>1975-12-18</td>\n",
       "      <td>-8</td>\n",
       "      <td>8</td>\n",
       "      <td>29</td>\n",
       "      <td>21</td>\n",
       "      <td>29</td>\n",
       "      <td>21</td>\n",
       "      <td>29</td>\n",
       "      <td>38</td>\n",
       "      <td>28</td>\n",
       "    </tr>\n",
       "    <tr>\n",
       "      <th>4</th>\n",
       "      <td>2006-01-02</td>\n",
       "      <td>1975-10-30</td>\n",
       "      <td>1978-10-13</td>\n",
       "      <td>1998-11-14</td>\n",
       "      <td>3</td>\n",
       "      <td>3</td>\n",
       "      <td>7</td>\n",
       "      <td>23</td>\n",
       "      <td>20</td>\n",
       "      <td>20</td>\n",
       "      <td>23</td>\n",
       "      <td>15</td>\n",
       "      <td>13</td>\n",
       "    </tr>\n",
       "  </tbody>\n",
       "</table>\n",
       "</div>"
      ],
      "text/plain": [
       "          dod         man         wom         dom  age_dif  abs_dif  mar_len  \\\n",
       "0  2006-09-06  1975-12-18  1983-08-01  2000-06-26        8        8        6   \n",
       "2  2005-01-02  1955-02-22  1947-03-21  1975-12-18       -8        8       29   \n",
       "4  2006-01-02  1975-10-30  1978-10-13  1998-11-14        3        3        7   \n",
       "\n",
       "   age_man  age_wom  age_min  age_max  pct_up  pct_dn  \n",
       "0       24       17       17       24      47      33  \n",
       "2       21       29       21       29      38      28  \n",
       "4       23       20       20       23      15      13  "
      ]
     },
     "execution_count": 60,
     "metadata": {},
     "output_type": "execute_result"
    }
   ],
   "source": [
    "# df.head(3)"
   ]
  },
  {
   "cell_type": "markdown",
   "metadata": {},
   "source": [
    "# Age Comparison man v. woman"
   ]
  },
  {
   "cell_type": "code",
   "execution_count": 80,
   "metadata": {
    "scrolled": true
   },
   "outputs": [
    {
     "data": {
      "text/plain": [
       "Text(0, 0.5, 'age of woman')"
      ]
     },
     "execution_count": 80,
     "metadata": {},
     "output_type": "execute_result"
    },
    {
     "data": {
      "image/png": "[encoded data removed]",
      "text/plain": [
       "<Figure size 432x288 with 1 Axes>"
      ]
     },
     "metadata": {
      "needs_background": "light"
     },
     "output_type": "display_data"
    }
   ],
   "source": [
    "fig , ax = plt.subplots()\n",
    "ax.scatter( df['age_man'],df['age_wom'],s=.1)\n",
    "# ax.line([10,10],[60,60])\n",
    "ax.scatter( list(range(10,61)),list(range(10,61)),s=10)\n",
    "\n",
    "ax.set_title('Age comparison man and woman')\n",
    "ax.set_xlabel('age of man')\n",
    "ax.set_ylabel('age of woman')\n"
   ]
  },
  {
   "cell_type": "code",
   "execution_count": 181,
   "metadata": {},
   "outputs": [
    {
     "data": {
      "text/plain": [
       "0.6351784080512352"
      ]
     },
     "execution_count": 181,
     "metadata": {},
     "output_type": "execute_result"
    }
   ],
   "source": [
    "len(df[ df['age_man']>df['age_wom'] ]) / len(df)"
   ]
  },
  {
   "cell_type": "code",
   "execution_count": null,
   "metadata": {},
   "outputs": [],
   "source": [
    "len(df[ df['wom']>df['wom'] ]) "
   ]
  },
  {
   "cell_type": "code",
   "execution_count": 178,
   "metadata": {},
   "outputs": [
    {
     "data": {
      "text/plain": [
       "4372"
      ]
     },
     "execution_count": 178,
     "metadata": {},
     "output_type": "execute_result"
    }
   ],
   "source": [
    "len(df)"
   ]
  },
  {
   "cell_type": "code",
   "execution_count": 62,
   "metadata": {
    "collapsed": true,
    "scrolled": true
   },
   "outputs": [
    {
     "data": {
      "text/plain": [
       "<matplotlib.collections.PathCollection at 0x7f8c714b61f0>"
      ]
     },
     "execution_count": 62,
     "metadata": {},
     "output_type": "execute_result"
    },
    {
     "data": {
      "image/png": "[encoded data removed]",
      "text/plain": [
       "<Figure size 432x288 with 1 Axes>"
      ]
     },
     "metadata": {
      "needs_background": "light"
     },
     "output_type": "display_data"
    }
   ],
   "source": [
    "fig , ax = plt.subplots()\n",
    "ax.scatter( df['abs_dif'],df['mar_len'],s=.1)\n",
    "\n",
    "# ax.line([10,10],[60,60])\n",
    "# make box charts for each age delta"
   ]
  },
  {
   "cell_type": "markdown",
   "metadata": {},
   "source": [
    "# Marriage Length shown by age difference"
   ]
  },
  {
   "cell_type": "code",
   "execution_count": 176,
   "metadata": {
    "scrolled": false
   },
   "outputs": [
    {
     "data": {
      "image/png": "[encoded data removed]",
      "text/plain": [
       "<Figure size 1080x576 with 15 Axes>"
      ]
     },
     "metadata": {
      "needs_background": "light"
     },
     "output_type": "display_data"
    }
   ],
   "source": [
    "fig , ax = plt.subplots(5,3,figsize=(15,8))  #5,3,figsize=(18,6)\n",
    "ax=ax.flatten()\n",
    "ml_lst = [ df[df['abs_dif']==i]['mar_len'] for i in range(16) ]\n",
    "\n",
    "for i in range(15):\n",
    "    \n",
    "    ax[i].set_ylabel(f'{i} year')\n",
    "    sbn.boxplot(x=ml_lst[i],ax=ax[i])\n",
    "     \n",
    "\n",
    "\n"
   ]
  },
  {
   "cell_type": "markdown",
   "metadata": {},
   "source": [
    "# 75% percentile up / down is 24/19; \n",
    "# close to 25/20 Hypothesis"
   ]
  },
  {
   "cell_type": "code",
   "execution_count": 63,
   "metadata": {
    "scrolled": false
   },
   "outputs": [
    {
     "data": {
      "text/html": [
       "<div>\n",
       "<style scoped>\n",
       "    .dataframe tbody tr th:only-of-type {\n",
       "        vertical-align: middle;\n",
       "    }\n",
       "\n",
       "    .dataframe tbody tr th {\n",
       "        vertical-align: top;\n",
       "    }\n",
       "\n",
       "    .dataframe thead th {\n",
       "        text-align: right;\n",
       "    }\n",
       "</style>\n",
       "<table border=\"1\" class=\"dataframe\">\n",
       "  <thead>\n",
       "    <tr style=\"text-align: right;\">\n",
       "      <th></th>\n",
       "      <th>age_dif</th>\n",
       "      <th>abs_dif</th>\n",
       "      <th>mar_len</th>\n",
       "      <th>age_man</th>\n",
       "      <th>age_wom</th>\n",
       "      <th>age_min</th>\n",
       "      <th>age_max</th>\n",
       "      <th>pct_up</th>\n",
       "      <th>pct_dn</th>\n",
       "    </tr>\n",
       "  </thead>\n",
       "  <tbody>\n",
       "    <tr>\n",
       "      <th>count</th>\n",
       "      <td>4372.000000</td>\n",
       "      <td>4372.000000</td>\n",
       "      <td>4372.000000</td>\n",
       "      <td>4372.000000</td>\n",
       "      <td>4372.000000</td>\n",
       "      <td>4372.000000</td>\n",
       "      <td>4372.000000</td>\n",
       "      <td>4372.000000</td>\n",
       "      <td>4372.000000</td>\n",
       "    </tr>\n",
       "    <tr>\n",
       "      <th>mean</th>\n",
       "      <td>2.329140</td>\n",
       "      <td>3.959058</td>\n",
       "      <td>12.225755</td>\n",
       "      <td>27.221866</td>\n",
       "      <td>24.870311</td>\n",
       "      <td>24.039113</td>\n",
       "      <td>28.053065</td>\n",
       "      <td>17.400274</td>\n",
       "      <td>13.065645</td>\n",
       "    </tr>\n",
       "    <tr>\n",
       "      <th>std</th>\n",
       "      <td>5.212777</td>\n",
       "      <td>4.113569</td>\n",
       "      <td>9.267772</td>\n",
       "      <td>6.939830</td>\n",
       "      <td>6.168300</td>\n",
       "      <td>5.566147</td>\n",
       "      <td>7.066467</td>\n",
       "      <td>19.622119</td>\n",
       "      <td>10.968270</td>\n",
       "    </tr>\n",
       "    <tr>\n",
       "      <th>min</th>\n",
       "      <td>-22.000000</td>\n",
       "      <td>0.000000</td>\n",
       "      <td>0.000000</td>\n",
       "      <td>10.000000</td>\n",
       "      <td>6.000000</td>\n",
       "      <td>6.000000</td>\n",
       "      <td>14.000000</td>\n",
       "      <td>0.000000</td>\n",
       "      <td>0.000000</td>\n",
       "    </tr>\n",
       "    <tr>\n",
       "      <th>25%</th>\n",
       "      <td>0.000000</td>\n",
       "      <td>1.000000</td>\n",
       "      <td>5.000000</td>\n",
       "      <td>23.000000</td>\n",
       "      <td>21.000000</td>\n",
       "      <td>20.000000</td>\n",
       "      <td>23.000000</td>\n",
       "      <td>5.000000</td>\n",
       "      <td>5.000000</td>\n",
       "    </tr>\n",
       "    <tr>\n",
       "      <th>50%</th>\n",
       "      <td>2.000000</td>\n",
       "      <td>3.000000</td>\n",
       "      <td>10.000000</td>\n",
       "      <td>26.000000</td>\n",
       "      <td>24.000000</td>\n",
       "      <td>23.000000</td>\n",
       "      <td>27.000000</td>\n",
       "      <td>12.000000</td>\n",
       "      <td>11.000000</td>\n",
       "    </tr>\n",
       "    <tr>\n",
       "      <th>75%</th>\n",
       "      <td>5.000000</td>\n",
       "      <td>5.000000</td>\n",
       "      <td>17.000000</td>\n",
       "      <td>30.000000</td>\n",
       "      <td>28.000000</td>\n",
       "      <td>26.000000</td>\n",
       "      <td>31.000000</td>\n",
       "      <td>24.000000</td>\n",
       "      <td>19.000000</td>\n",
       "    </tr>\n",
       "    <tr>\n",
       "      <th>max</th>\n",
       "      <td>40.000000</td>\n",
       "      <td>40.000000</td>\n",
       "      <td>54.000000</td>\n",
       "      <td>73.000000</td>\n",
       "      <td>62.000000</td>\n",
       "      <td>57.000000</td>\n",
       "      <td>73.000000</td>\n",
       "      <td>383.000000</td>\n",
       "      <td>79.000000</td>\n",
       "    </tr>\n",
       "  </tbody>\n",
       "</table>\n",
       "</div>"
      ],
      "text/plain": [
       "           age_dif      abs_dif      mar_len      age_man      age_wom  \\\n",
       "count  4372.000000  4372.000000  4372.000000  4372.000000  4372.000000   \n",
       "mean      2.329140     3.959058    12.225755    27.221866    24.870311   \n",
       "std       5.212777     4.113569     9.267772     6.939830     6.168300   \n",
       "min     -22.000000     0.000000     0.000000    10.000000     6.000000   \n",
       "25%       0.000000     1.000000     5.000000    23.000000    21.000000   \n",
       "50%       2.000000     3.000000    10.000000    26.000000    24.000000   \n",
       "75%       5.000000     5.000000    17.000000    30.000000    28.000000   \n",
       "max      40.000000    40.000000    54.000000    73.000000    62.000000   \n",
       "\n",
       "           age_min      age_max       pct_up       pct_dn  \n",
       "count  4372.000000  4372.000000  4372.000000  4372.000000  \n",
       "mean     24.039113    28.053065    17.400274    13.065645  \n",
       "std       5.566147     7.066467    19.622119    10.968270  \n",
       "min       6.000000    14.000000     0.000000     0.000000  \n",
       "25%      20.000000    23.000000     5.000000     5.000000  \n",
       "50%      23.000000    27.000000    12.000000    11.000000  \n",
       "75%      26.000000    31.000000    24.000000    19.000000  \n",
       "max      57.000000    73.000000   383.000000    79.000000  "
      ]
     },
     "execution_count": 63,
     "metadata": {},
     "output_type": "execute_result"
    }
   ],
   "source": [
    "df.describe()"
   ]
  },
  {
   "cell_type": "code",
   "execution_count": 64,
   "metadata": {
    "collapsed": true,
    "scrolled": true
   },
   "outputs": [
    {
     "data": {
      "text/html": [
       "<div>\n",
       "<style scoped>\n",
       "    .dataframe tbody tr th:only-of-type {\n",
       "        vertical-align: middle;\n",
       "    }\n",
       "\n",
       "    .dataframe tbody tr th {\n",
       "        vertical-align: top;\n",
       "    }\n",
       "\n",
       "    .dataframe thead th {\n",
       "        text-align: right;\n",
       "    }\n",
       "</style>\n",
       "<table border=\"1\" class=\"dataframe\">\n",
       "  <thead>\n",
       "    <tr style=\"text-align: right;\">\n",
       "      <th></th>\n",
       "      <th>age_dif</th>\n",
       "      <th>abs_dif</th>\n",
       "      <th>mar_len</th>\n",
       "      <th>age_man</th>\n",
       "      <th>age_wom</th>\n",
       "      <th>age_min</th>\n",
       "      <th>age_max</th>\n",
       "      <th>pct_up</th>\n",
       "      <th>pct_dn</th>\n",
       "    </tr>\n",
       "  </thead>\n",
       "  <tbody>\n",
       "    <tr>\n",
       "      <th>count</th>\n",
       "      <td>1071.000000</td>\n",
       "      <td>1071.000000</td>\n",
       "      <td>1071.000000</td>\n",
       "      <td>1071.000000</td>\n",
       "      <td>1071.000000</td>\n",
       "      <td>1071.000000</td>\n",
       "      <td>1071.000000</td>\n",
       "      <td>1071.000000</td>\n",
       "      <td>1071.000000</td>\n",
       "    </tr>\n",
       "    <tr>\n",
       "      <th>mean</th>\n",
       "      <td>6.616246</td>\n",
       "      <td>9.607843</td>\n",
       "      <td>11.931839</td>\n",
       "      <td>32.476190</td>\n",
       "      <td>25.852474</td>\n",
       "      <td>24.363212</td>\n",
       "      <td>33.965453</td>\n",
       "      <td>42.098973</td>\n",
       "      <td>28.191410</td>\n",
       "    </tr>\n",
       "    <tr>\n",
       "      <th>std</th>\n",
       "      <td>8.238914</td>\n",
       "      <td>4.392995</td>\n",
       "      <td>9.109717</td>\n",
       "      <td>8.844511</td>\n",
       "      <td>8.153475</td>\n",
       "      <td>6.853590</td>\n",
       "      <td>8.575869</td>\n",
       "      <td>24.482981</td>\n",
       "      <td>8.911494</td>\n",
       "    </tr>\n",
       "    <tr>\n",
       "      <th>min</th>\n",
       "      <td>-22.000000</td>\n",
       "      <td>6.000000</td>\n",
       "      <td>0.000000</td>\n",
       "      <td>10.000000</td>\n",
       "      <td>6.000000</td>\n",
       "      <td>6.000000</td>\n",
       "      <td>14.000000</td>\n",
       "      <td>12.000000</td>\n",
       "      <td>11.000000</td>\n",
       "    </tr>\n",
       "    <tr>\n",
       "      <th>25%</th>\n",
       "      <td>6.000000</td>\n",
       "      <td>7.000000</td>\n",
       "      <td>5.000000</td>\n",
       "      <td>27.000000</td>\n",
       "      <td>20.000000</td>\n",
       "      <td>20.000000</td>\n",
       "      <td>28.000000</td>\n",
       "      <td>29.000000</td>\n",
       "      <td>22.000000</td>\n",
       "    </tr>\n",
       "    <tr>\n",
       "      <th>50%</th>\n",
       "      <td>8.000000</td>\n",
       "      <td>8.000000</td>\n",
       "      <td>9.000000</td>\n",
       "      <td>31.000000</td>\n",
       "      <td>24.000000</td>\n",
       "      <td>23.000000</td>\n",
       "      <td>32.000000</td>\n",
       "      <td>36.000000</td>\n",
       "      <td>26.000000</td>\n",
       "    </tr>\n",
       "    <tr>\n",
       "      <th>75%</th>\n",
       "      <td>11.000000</td>\n",
       "      <td>11.000000</td>\n",
       "      <td>17.000000</td>\n",
       "      <td>36.000000</td>\n",
       "      <td>30.000000</td>\n",
       "      <td>27.000000</td>\n",
       "      <td>38.000000</td>\n",
       "      <td>49.000000</td>\n",
       "      <td>33.000000</td>\n",
       "    </tr>\n",
       "    <tr>\n",
       "      <th>max</th>\n",
       "      <td>40.000000</td>\n",
       "      <td>40.000000</td>\n",
       "      <td>48.000000</td>\n",
       "      <td>73.000000</td>\n",
       "      <td>62.000000</td>\n",
       "      <td>55.000000</td>\n",
       "      <td>73.000000</td>\n",
       "      <td>383.000000</td>\n",
       "      <td>79.000000</td>\n",
       "    </tr>\n",
       "  </tbody>\n",
       "</table>\n",
       "</div>"
      ],
      "text/plain": [
       "           age_dif      abs_dif      mar_len      age_man      age_wom  \\\n",
       "count  1071.000000  1071.000000  1071.000000  1071.000000  1071.000000   \n",
       "mean      6.616246     9.607843    11.931839    32.476190    25.852474   \n",
       "std       8.238914     4.392995     9.109717     8.844511     8.153475   \n",
       "min     -22.000000     6.000000     0.000000    10.000000     6.000000   \n",
       "25%       6.000000     7.000000     5.000000    27.000000    20.000000   \n",
       "50%       8.000000     8.000000     9.000000    31.000000    24.000000   \n",
       "75%      11.000000    11.000000    17.000000    36.000000    30.000000   \n",
       "max      40.000000    40.000000    48.000000    73.000000    62.000000   \n",
       "\n",
       "           age_min      age_max       pct_up       pct_dn  \n",
       "count  1071.000000  1071.000000  1071.000000  1071.000000  \n",
       "mean     24.363212    33.965453    42.098973    28.191410  \n",
       "std       6.853590     8.575869    24.482981     8.911494  \n",
       "min       6.000000    14.000000    12.000000    11.000000  \n",
       "25%      20.000000    28.000000    29.000000    22.000000  \n",
       "50%      23.000000    32.000000    36.000000    26.000000  \n",
       "75%      27.000000    38.000000    49.000000    33.000000  \n",
       "max      55.000000    73.000000   383.000000    79.000000  "
      ]
     },
     "execution_count": 64,
     "metadata": {},
     "output_type": "execute_result"
    }
   ],
   "source": [
    "# df[ df['abs_dif']>5].describe()"
   ]
  },
  {
   "cell_type": "code",
   "execution_count": 77,
   "metadata": {
    "scrolled": true
   },
   "outputs": [],
   "source": [
    "# df['age_dif'].mean(),df['age_dif'].std()"
   ]
  },
  {
   "cell_type": "code",
   "execution_count": 66,
   "metadata": {
    "scrolled": true
   },
   "outputs": [
    {
     "data": {
      "text/plain": [
       "(3.959057639524245, 4.113569381719339)"
      ]
     },
     "execution_count": 66,
     "metadata": {},
     "output_type": "execute_result"
    }
   ],
   "source": [
    "df['abs_dif'].mean(),df['abs_dif'].std()"
   ]
  },
  {
   "cell_type": "code",
   "execution_count": 67,
   "metadata": {
    "scrolled": true
   },
   "outputs": [
    {
     "data": {
      "text/plain": [
       "(12.225754803293688, 9.267772071996777)"
      ]
     },
     "execution_count": 67,
     "metadata": {},
     "output_type": "execute_result"
    }
   ],
   "source": [
    "df['mar_len'].mean(),df['mar_len'].std()"
   ]
  },
  {
   "cell_type": "code",
   "execution_count": 68,
   "metadata": {
    "scrolled": true
   },
   "outputs": [
    {
     "data": {
      "text/plain": [
       "(17.400274473924977, 19.622119471720953)"
      ]
     },
     "execution_count": 68,
     "metadata": {},
     "output_type": "execute_result"
    }
   ],
   "source": [
    "df['pct_up'].mean(),df['pct_up'].std()"
   ]
  },
  {
   "cell_type": "code",
   "execution_count": 69,
   "metadata": {
    "scrolled": true
   },
   "outputs": [
    {
     "data": {
      "text/plain": [
       "(13.065645013723696, 10.968269785672646)"
      ]
     },
     "execution_count": 69,
     "metadata": {},
     "output_type": "execute_result"
    }
   ],
   "source": [
    "df['pct_dn'].mean(),df['pct_dn'].std()"
   ]
  },
  {
   "cell_type": "code",
   "execution_count": 70,
   "metadata": {
    "collapsed": true,
    "scrolled": true
   },
   "outputs": [
    {
     "data": {
      "text/plain": [
       "<matplotlib.collections.PathCollection at 0x7f8c7083da60>"
      ]
     },
     "execution_count": 70,
     "metadata": {},
     "output_type": "execute_result"
    },
    {
     "data": {
      "image/png": "[encoded data removed]",
      "text/plain": [
       "<Figure size 432x288 with 1 Axes>"
      ]
     },
     "metadata": {
      "needs_background": "light"
     },
     "output_type": "display_data"
    }
   ],
   "source": [
    "fig , ax = plt.subplots()\n",
    "ax.scatter( df['pct_dn'],df['pct_up'],s=1)\n",
    "# ax.line([10,10],[60,60])\n",
    "# ax.scatter( list(range(10,61)),list(range(10,61)),s=10)\n"
   ]
  },
  {
   "cell_type": "code",
   "execution_count": 71,
   "metadata": {
    "scrolled": true
   },
   "outputs": [
    {
     "data": {
      "text/plain": [
       "<matplotlib.collections.PathCollection at 0x7f8c6e8aa2e0>"
      ]
     },
     "execution_count": 71,
     "metadata": {},
     "output_type": "execute_result"
    },
    {
     "data": {
      "image/png": "[encoded data removed]",
      "text/plain": [
       "<Figure size 864x432 with 2 Axes>"
      ]
     },
     "metadata": {
      "needs_background": "light"
     },
     "output_type": "display_data"
    }
   ],
   "source": [
    "\n",
    "fig , ax = plt.subplots(1,2,figsize=(12,6))\n",
    "ax[0].scatter( df['age_man'],df['abs_dif'],s=1)\n",
    "ax[1].scatter( df['age_wom'],df['abs_dif'],s=1)\n",
    "# ax.line([10,10],[60,60])\n",
    "# ax.scatter( list(range(10,61)),list(range(10,61)),s=10)"
   ]
  }
 ],
 "metadata": {
  "kernelspec": {
   "display_name": "Python 3",
   "language": "python",
   "name": "python3"
  },
  "language_info": {
   "codemirror_mode": {
    "name": "ipython",
    "version": 3
   },
   "file_extension": ".py",
   "mimetype": "text/x-python",
   "name": "python",
   "nbconvert_exporter": "python",
   "pygments_lexer": "ipython3",
   "version": "3.8.5"
  }
 },
 "nbformat": 4,
 "nbformat_minor": 4
}
