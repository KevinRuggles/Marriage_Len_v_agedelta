{
 "cells": [
  {
   "cell_type": "code",
   "execution_count": 23,
   "metadata": {},
   "outputs": [
    {
     "name": "stdout",
     "output_type": "stream",
     "text": [
      "[1, 2, 3, 5]\n",
      "[1, 2, 3, 3, 5]\n",
      "[1, 2, 3, 4, 3, 5]\n"
     ]
    },
    {
     "data": {
      "text/plain": [
       "[1, 2, 3, 4, 3, 5]"
      ]
     },
     "execution_count": 23,
     "metadata": {},
     "output_type": "execute_result"
    }
   ],
   "source": [
    "# 2 lists -> one list sorted:\n",
    "\n",
    "def join_list(list1 , list2):\n",
    "    l1 = len(list1)\n",
    "    l2 = len(list2)\n",
    "    i1=i2=0\n",
    "    # start at beginning of each list, \n",
    "    # put min value in output \n",
    "    # increment pointer\n",
    "    # repeat\n",
    "    output=[]\n",
    "#     print(list1)\n",
    "    while i2<l2:\n",
    "        if list1[i1] >= list2[i2]:\n",
    "            list1.insert(i1,list2[i2] )\n",
    "            i2+=1\n",
    "            i1+=1\n",
    "        else:\n",
    "            i1+=1\n",
    "            list1.insert(? list2[i2] )\n",
    "            i2+=1\n",
    "        print(list1)\n",
    "    return list1\n",
    "\n",
    "join_list( [1,3,5], [2,3,4] )"
   ]
  },
  {
   "cell_type": "code",
   "execution_count": null,
   "metadata": {},
   "outputs": [],
   "source": [
    "insert"
   ]
  }
 ],
 "metadata": {
  "kernelspec": {
   "display_name": "Python 3",
   "language": "python",
   "name": "python3"
  },
  "language_info": {
   "codemirror_mode": {
    "name": "ipython",
    "version": 3
   },
   "file_extension": ".py",
   "mimetype": "text/x-python",
   "name": "python",
   "nbconvert_exporter": "python",
   "pygments_lexer": "ipython3",
   "version": "3.8.5"
  }
 },
 "nbformat": 4,
 "nbformat_minor": 4
}
